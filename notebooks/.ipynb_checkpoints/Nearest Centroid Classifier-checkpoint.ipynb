{
 "cells": [
  {
   "cell_type": "code",
   "execution_count": 4,
   "id": "9db1a161-0441-42e0-a6d3-2504f1e53c32",
   "metadata": {},
   "outputs": [
    {
     "data": {
      "text/plain": [
       "array(['edm', 'rock', 'rap', 'latin', 'r&b', 'pop'], dtype=object)"
      ]
     },
     "execution_count": 4,
     "metadata": {},
     "output_type": "execute_result"
    }
   ],
   "source": [
    "import pandas as pd\n",
    "import numpy as np\n",
    "import matplotlib.pyplot as plt\n",
    "import seaborn as sns\n",
    "from statistics import mode\n",
    "\n",
    "# Define a function to load data and select specific columns\n",
    "def load_and_select_columns(file_path, columns):\n",
    "    data = pd.read_csv(file_path, usecols=columns)\n",
    "    return data\n",
    "\n",
    "# Columns to be used\n",
    "columns_to_use = [\n",
    "    'track_id', 'track_name', 'track_artist', 'track_popularity', \n",
    "    'danceability', 'energy', 'key', 'loudness', 'mode', 'speechiness', \n",
    "    'acousticness', 'instrumentalness', 'liveness', 'valence', 'tempo', \n",
    "    'duration_ms', 'genre'\n",
    "]\n",
    "\n",
    "# Load the data with the selected columns\n",
    "song_data = load_and_select_columns('../data/songs_data.csv', columns_to_use)\n",
    "song_data.head()\n",
    "\n",
    "# Get unique genres\n",
    "song_data['genre'].unique()"
   ]
  },
  {
   "cell_type": "code",
   "execution_count": 5,
   "id": "bcfeef9c-8601-4011-99f4-cecc0fa959b9",
   "metadata": {},
   "outputs": [],
   "source": [
    "# Separate the data by genre\n",
    "edm_data = song_data[song_data['genre']=='edm']\n",
    "rock_data = song_data[song_data['genre']=='rock']\n",
    "rap_data = song_data[song_data['genre']=='rap']\n",
    "latin_data = song_data[song_data['genre']=='latin']\n",
    "rb_data = song_data[song_data['genre']=='r&b']\n",
    "pop_data = song_data[song_data['genre']=='pop']\n",
    "\n",
    "# Compute global mean and standard deviation\n",
    "global_mean = song_data.mean(numeric_only=True)\n",
    "global_std = song_data.std(numeric_only=True)\n",
    "\n",
    "# Compute mean for each genre\n",
    "edm_mean = edm_data.mean(numeric_only=True)\n",
    "rock_mean = rock_data.mean(numeric_only=True)\n",
    "rap_mean = rap_data.mean(numeric_only=True)\n",
    "latin_mean = latin_data.mean(numeric_only=True)\n",
    "rb_mean = rb_data.mean(numeric_only=True)\n",
    "pop_mean = pop_data.mean(numeric_only=True)"
   ]
  },
  {
   "cell_type": "code",
   "execution_count": 6,
   "id": "9fca2f46-32ee-40d2-8328-b0d96e5e37c0",
   "metadata": {},
   "outputs": [],
   "source": [
    "# Normalize the data\n",
    "normalized_edm = (edm_mean - global_mean) / global_std\n",
    "normalized_rock = (rock_mean - global_mean) / global_std\n",
    "normalized_rap = (rap_mean - global_mean) / global_std\n",
    "normalized_latin = (latin_mean - global_mean) / global_std\n",
    "normalized_rb = (rb_mean - global_mean) / global_std\n",
    "normalized_pop = (pop_mean - global_mean) / global_std\n",
    "\n",
    "# Convert to vectors\n",
    "vector_edm = normalized_edm.values\n",
    "vector_rock = normalized_rock.values\n",
    "vector_rap = normalized_rap.values\n",
    "vector_latin = normalized_latin.values\n",
    "vector_rb = normalized_rb.values\n",
    "vector_pop = normalized_pop.values"
   ]
  },
  {
   "cell_type": "code",
   "execution_count": 7,
   "id": "02a3776a-b1e1-49f0-b49e-68588608a8b5",
   "metadata": {},
   "outputs": [
    {
     "name": "stdout",
     "output_type": "stream",
     "text": [
      "The song is \n",
      "Rap\n"
     ]
    }
   ],
   "source": [
    "# Load the input song data with the selected columns\n",
    "input_data = load_and_select_columns('../data/Input_Song.csv', columns_to_use[:-1]) # Exclude 'genre' from input data, that's why it is last in the list\n",
    "input_data.head()\n",
    "\n",
    "# Normalize the input data\n",
    "normalized_input = (input_data.select_dtypes(include='number') - global_mean) / global_std\n",
    "vector_input = normalized_input.values\n",
    "\n",
    "# Calculate magnitudes\n",
    "magnitude_list = []\n",
    "magnitude_list.append(np.linalg.norm(vector_input - vector_edm))\n",
    "magnitude_list.append(np.linalg.norm(vector_input - vector_rock))\n",
    "magnitude_list.append(np.linalg.norm(vector_input - vector_rap))\n",
    "magnitude_list.append(np.linalg.norm(vector_input - vector_latin))\n",
    "magnitude_list.append(np.linalg.norm(vector_input - vector_rb))\n",
    "magnitude_list.append(np.linalg.norm(vector_input - vector_pop))\n",
    "\n",
    "# Find the genre closest to the input song\n",
    "min_mag_index = np.argmin(magnitude_list)\n",
    "print(\"The song is \")\n",
    "if min_mag_index == 0:\n",
    "    print(\"EDM\")\n",
    "elif min_mag_index == 1:\n",
    "    print(\"Rock\")\n",
    "elif min_mag_index == 2:\n",
    "    print(\"Rap\")\n",
    "elif min_mag_index == 3:\n",
    "    print(\"Latin\")\n",
    "elif min_mag_index == 4:\n",
    "    print(\"R&B\")\n",
    "elif min_mag_index == 5:\n",
    "    print(\"Pop\")"
   ]
  },
  {
   "cell_type": "code",
   "execution_count": null,
   "id": "40fb5d9f-34f7-4de3-9c0f-bec12e4859f3",
   "metadata": {},
   "outputs": [],
   "source": []
  }
 ],
 "metadata": {
  "kernelspec": {
   "display_name": "Python 3 (ipykernel)",
   "language": "python",
   "name": "python3"
  },
  "language_info": {
   "codemirror_mode": {
    "name": "ipython",
    "version": 3
   },
   "file_extension": ".py",
   "mimetype": "text/x-python",
   "name": "python",
   "nbconvert_exporter": "python",
   "pygments_lexer": "ipython3",
   "version": "3.11.7"
  }
 },
 "nbformat": 4,
 "nbformat_minor": 5
}
