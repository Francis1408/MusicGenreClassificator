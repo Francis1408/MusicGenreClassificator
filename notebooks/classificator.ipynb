{
 "cells": [
  {
   "cell_type": "markdown",
   "metadata": {},
   "source": [
    "# Music Genre Classificator\n",
    "### IP02 - Machine Learning in Pyhton \n",
    "Diana Patricia García Fernández - 93662 |\n",
    "                Karla Lisette Antonio Perez - 93630 |\n",
    "                Dante Antonio Garcia Rosales - 93351 |\n",
    "                Fransico Abreu Gonçalves - 93760 |\n",
    "                Pedro Henrique Pedran Dos Santos - 93842 |\n",
    "                Patricio Molano  -"
   ]
  },
  {
   "cell_type": "code",
   "execution_count": 156,
   "metadata": {
    "tags": []
   },
   "outputs": [],
   "source": [
    "# Importing Libraries\n",
    "\n",
    "import pandas as pd\n",
    "import numpy as np\n",
    "import matplotlib.pyplot as plt\n",
    "import seaborn as sns\n",
    "from statistics import mode"
   ]
  },
  {
   "cell_type": "code",
   "execution_count": 157,
   "metadata": {
    "tags": []
   },
   "outputs": [],
   "source": [
    "# Loading data set\n",
    "song_data = pd.read_csv('../data/songs_data.csv')"
   ]
  },
  {
   "cell_type": "code",
   "execution_count": 158,
   "metadata": {
    "tags": []
   },
   "outputs": [
    {
     "data": {
      "text/html": [
       "<div>\n",
       "<style scoped>\n",
       "    .dataframe tbody tr th:only-of-type {\n",
       "        vertical-align: middle;\n",
       "    }\n",
       "\n",
       "    .dataframe tbody tr th {\n",
       "        vertical-align: top;\n",
       "    }\n",
       "\n",
       "    .dataframe thead th {\n",
       "        text-align: right;\n",
       "    }\n",
       "</style>\n",
       "<table border=\"1\" class=\"dataframe\">\n",
       "  <thead>\n",
       "    <tr style=\"text-align: right;\">\n",
       "      <th></th>\n",
       "      <th>track_id</th>\n",
       "      <th>track_name</th>\n",
       "      <th>track_artist</th>\n",
       "      <th>track_popularity</th>\n",
       "      <th>genre</th>\n",
       "      <th>danceability</th>\n",
       "      <th>energy</th>\n",
       "      <th>key</th>\n",
       "      <th>loudness</th>\n",
       "      <th>mode</th>\n",
       "      <th>speechiness</th>\n",
       "      <th>acousticness</th>\n",
       "      <th>instrumentalness</th>\n",
       "      <th>liveness</th>\n",
       "      <th>valence</th>\n",
       "      <th>tempo</th>\n",
       "      <th>duration_ms</th>\n",
       "    </tr>\n",
       "  </thead>\n",
       "  <tbody>\n",
       "    <tr>\n",
       "      <th>0</th>\n",
       "      <td>6ho0GyrWZN3mhi9zVRW7xi</td>\n",
       "      <td>Losing It</td>\n",
       "      <td>FISHER</td>\n",
       "      <td>79</td>\n",
       "      <td>edm</td>\n",
       "      <td>0.760</td>\n",
       "      <td>0.964</td>\n",
       "      <td>2</td>\n",
       "      <td>-5.844</td>\n",
       "      <td>1</td>\n",
       "      <td>0.0576</td>\n",
       "      <td>0.001820</td>\n",
       "      <td>0.70000</td>\n",
       "      <td>0.0974</td>\n",
       "      <td>0.641</td>\n",
       "      <td>125.000</td>\n",
       "      <td>248036</td>\n",
       "    </tr>\n",
       "    <tr>\n",
       "      <th>1</th>\n",
       "      <td>4bYJKHG6KLdGzHQRJMaFc8</td>\n",
       "      <td>Rock And Roll All Nite</td>\n",
       "      <td>KISS</td>\n",
       "      <td>3</td>\n",
       "      <td>rock</td>\n",
       "      <td>0.581</td>\n",
       "      <td>0.831</td>\n",
       "      <td>1</td>\n",
       "      <td>-8.045</td>\n",
       "      <td>1</td>\n",
       "      <td>0.1070</td>\n",
       "      <td>0.045800</td>\n",
       "      <td>0.00000</td>\n",
       "      <td>0.0782</td>\n",
       "      <td>0.885</td>\n",
       "      <td>144.684</td>\n",
       "      <td>168160</td>\n",
       "    </tr>\n",
       "    <tr>\n",
       "      <th>2</th>\n",
       "      <td>1VGlMYqPO1LHyclvfIMvWI</td>\n",
       "      <td>Snälla bli min (Hjalm Remix)</td>\n",
       "      <td>Robin Lukovic</td>\n",
       "      <td>0</td>\n",
       "      <td>edm</td>\n",
       "      <td>0.661</td>\n",
       "      <td>0.760</td>\n",
       "      <td>8</td>\n",
       "      <td>-4.769</td>\n",
       "      <td>1</td>\n",
       "      <td>0.0268</td>\n",
       "      <td>0.000406</td>\n",
       "      <td>0.04070</td>\n",
       "      <td>0.6110</td>\n",
       "      <td>0.439</td>\n",
       "      <td>99.993</td>\n",
       "      <td>271238</td>\n",
       "    </tr>\n",
       "    <tr>\n",
       "      <th>3</th>\n",
       "      <td>6BbINUfGabVyiNFJpQXn3x</td>\n",
       "      <td>Wicked</td>\n",
       "      <td>Future</td>\n",
       "      <td>62</td>\n",
       "      <td>rap</td>\n",
       "      <td>0.718</td>\n",
       "      <td>0.679</td>\n",
       "      <td>11</td>\n",
       "      <td>-5.899</td>\n",
       "      <td>0</td>\n",
       "      <td>0.0706</td>\n",
       "      <td>0.001910</td>\n",
       "      <td>0.01040</td>\n",
       "      <td>0.3850</td>\n",
       "      <td>0.205</td>\n",
       "      <td>157.970</td>\n",
       "      <td>173347</td>\n",
       "    </tr>\n",
       "    <tr>\n",
       "      <th>4</th>\n",
       "      <td>1Ly0ssAgeM7YqdHptao8Oe</td>\n",
       "      <td>Paranoid</td>\n",
       "      <td>Black Sabbath</td>\n",
       "      <td>15</td>\n",
       "      <td>rock</td>\n",
       "      <td>0.426</td>\n",
       "      <td>0.619</td>\n",
       "      <td>4</td>\n",
       "      <td>-11.501</td>\n",
       "      <td>0</td>\n",
       "      <td>0.0722</td>\n",
       "      <td>0.000084</td>\n",
       "      <td>0.00239</td>\n",
       "      <td>0.1700</td>\n",
       "      <td>0.382</td>\n",
       "      <td>162.721</td>\n",
       "      <td>168440</td>\n",
       "    </tr>\n",
       "  </tbody>\n",
       "</table>\n",
       "</div>"
      ],
      "text/plain": [
       "                 track_id                    track_name   track_artist  \\\n",
       "0  6ho0GyrWZN3mhi9zVRW7xi                     Losing It         FISHER   \n",
       "1  4bYJKHG6KLdGzHQRJMaFc8        Rock And Roll All Nite           KISS   \n",
       "2  1VGlMYqPO1LHyclvfIMvWI  Snälla bli min (Hjalm Remix)  Robin Lukovic   \n",
       "3  6BbINUfGabVyiNFJpQXn3x                        Wicked         Future   \n",
       "4  1Ly0ssAgeM7YqdHptao8Oe                      Paranoid  Black Sabbath   \n",
       "\n",
       "   track_popularity genre  danceability  energy  key  loudness  mode  \\\n",
       "0                79   edm         0.760   0.964    2    -5.844     1   \n",
       "1                 3  rock         0.581   0.831    1    -8.045     1   \n",
       "2                 0   edm         0.661   0.760    8    -4.769     1   \n",
       "3                62   rap         0.718   0.679   11    -5.899     0   \n",
       "4                15  rock         0.426   0.619    4   -11.501     0   \n",
       "\n",
       "   speechiness  acousticness  instrumentalness  liveness  valence    tempo  \\\n",
       "0       0.0576      0.001820           0.70000    0.0974    0.641  125.000   \n",
       "1       0.1070      0.045800           0.00000    0.0782    0.885  144.684   \n",
       "2       0.0268      0.000406           0.04070    0.6110    0.439   99.993   \n",
       "3       0.0706      0.001910           0.01040    0.3850    0.205  157.970   \n",
       "4       0.0722      0.000084           0.00239    0.1700    0.382  162.721   \n",
       "\n",
       "   duration_ms  \n",
       "0       248036  \n",
       "1       168160  \n",
       "2       271238  \n",
       "3       173347  \n",
       "4       168440  "
      ]
     },
     "execution_count": 158,
     "metadata": {},
     "output_type": "execute_result"
    }
   ],
   "source": [
    "# Displaying the data, to visualize the how the parameters work \n",
    "song_data.head(n = 5)"
   ]
  },
  {
   "cell_type": "markdown",
   "metadata": {},
   "source": [
    "## Exploratory Data Analysis (EDA)"
   ]
  },
  {
   "cell_type": "markdown",
   "metadata": {},
   "source": [
    "#### Dataset size"
   ]
  },
  {
   "cell_type": "code",
   "execution_count": 159,
   "metadata": {
    "tags": []
   },
   "outputs": [
    {
     "name": "stdout",
     "output_type": "stream",
     "text": [
      "Number of rows:  28396\n",
      "Number of columns:  17\n"
     ]
    }
   ],
   "source": [
    "#Displaying number of rows and columns\n",
    "print(\"Number of rows: \",song_data.shape[0])\n",
    "print(\"Number of columns: \",song_data.shape[1])"
   ]
  },
  {
   "cell_type": "code",
   "execution_count": 160,
   "metadata": {
    "tags": []
   },
   "outputs": [
    {
     "name": "stdout",
     "output_type": "stream",
     "text": [
      "<class 'pandas.core.frame.DataFrame'>\n",
      "RangeIndex: 28396 entries, 0 to 28395\n",
      "Data columns (total 17 columns):\n",
      " #   Column            Non-Null Count  Dtype  \n",
      "---  ------            --------------  -----  \n",
      " 0   track_id          28396 non-null  object \n",
      " 1   track_name        28392 non-null  object \n",
      " 2   track_artist      28392 non-null  object \n",
      " 3   track_popularity  28396 non-null  int64  \n",
      " 4   genre             28396 non-null  object \n",
      " 5   danceability      28396 non-null  float64\n",
      " 6   energy            28396 non-null  float64\n",
      " 7   key               28396 non-null  int64  \n",
      " 8   loudness          28396 non-null  float64\n",
      " 9   mode              28396 non-null  int64  \n",
      " 10  speechiness       28396 non-null  float64\n",
      " 11  acousticness      28396 non-null  float64\n",
      " 12  instrumentalness  28396 non-null  float64\n",
      " 13  liveness          28396 non-null  float64\n",
      " 14  valence           28396 non-null  float64\n",
      " 15  tempo             28396 non-null  float64\n",
      " 16  duration_ms       28396 non-null  int64  \n",
      "dtypes: float64(9), int64(4), object(4)\n",
      "memory usage: 3.7+ MB\n"
     ]
    }
   ],
   "source": [
    "song_data.info()"
   ]
  },
  {
   "cell_type": "markdown",
   "metadata": {},
   "source": [
    "* Each parameter has 28396 data (no data missing), with the only exception in track_name and track_artist (28392) that have 4 data missing. But it does not matter for our purpose"
   ]
  },
  {
   "cell_type": "markdown",
   "metadata": {},
   "source": [
    "### Describing the dataset"
   ]
  },
  {
   "cell_type": "code",
   "execution_count": 161,
   "metadata": {
    "tags": []
   },
   "outputs": [
    {
     "data": {
      "text/html": [
       "<div>\n",
       "<style scoped>\n",
       "    .dataframe tbody tr th:only-of-type {\n",
       "        vertical-align: middle;\n",
       "    }\n",
       "\n",
       "    .dataframe tbody tr th {\n",
       "        vertical-align: top;\n",
       "    }\n",
       "\n",
       "    .dataframe thead th {\n",
       "        text-align: right;\n",
       "    }\n",
       "</style>\n",
       "<table border=\"1\" class=\"dataframe\">\n",
       "  <thead>\n",
       "    <tr style=\"text-align: right;\">\n",
       "      <th></th>\n",
       "      <th>track_popularity</th>\n",
       "      <th>danceability</th>\n",
       "      <th>energy</th>\n",
       "      <th>key</th>\n",
       "      <th>loudness</th>\n",
       "      <th>mode</th>\n",
       "      <th>speechiness</th>\n",
       "      <th>acousticness</th>\n",
       "      <th>instrumentalness</th>\n",
       "      <th>liveness</th>\n",
       "      <th>valence</th>\n",
       "      <th>tempo</th>\n",
       "      <th>duration_ms</th>\n",
       "    </tr>\n",
       "  </thead>\n",
       "  <tbody>\n",
       "    <tr>\n",
       "      <th>count</th>\n",
       "      <td>28396.000000</td>\n",
       "      <td>28396.000000</td>\n",
       "      <td>28396.000000</td>\n",
       "      <td>28396.000000</td>\n",
       "      <td>28396.000000</td>\n",
       "      <td>28396.000000</td>\n",
       "      <td>28396.000000</td>\n",
       "      <td>28396.000000</td>\n",
       "      <td>28396.000000</td>\n",
       "      <td>28396.000000</td>\n",
       "      <td>28396.000000</td>\n",
       "      <td>28396.000000</td>\n",
       "      <td>28396.000000</td>\n",
       "    </tr>\n",
       "    <tr>\n",
       "      <th>mean</th>\n",
       "      <td>39.336104</td>\n",
       "      <td>0.653386</td>\n",
       "      <td>0.698387</td>\n",
       "      <td>5.368256</td>\n",
       "      <td>-6.817541</td>\n",
       "      <td>0.565397</td>\n",
       "      <td>0.107990</td>\n",
       "      <td>0.177263</td>\n",
       "      <td>0.091143</td>\n",
       "      <td>0.190986</td>\n",
       "      <td>0.510434</td>\n",
       "      <td>120.955390</td>\n",
       "      <td>226575.367094</td>\n",
       "    </tr>\n",
       "    <tr>\n",
       "      <th>std</th>\n",
       "      <td>23.706486</td>\n",
       "      <td>0.145799</td>\n",
       "      <td>0.183484</td>\n",
       "      <td>3.613898</td>\n",
       "      <td>3.036443</td>\n",
       "      <td>0.495714</td>\n",
       "      <td>0.102623</td>\n",
       "      <td>0.222908</td>\n",
       "      <td>0.232566</td>\n",
       "      <td>0.156015</td>\n",
       "      <td>0.234309</td>\n",
       "      <td>26.957635</td>\n",
       "      <td>61076.581384</td>\n",
       "    </tr>\n",
       "    <tr>\n",
       "      <th>min</th>\n",
       "      <td>0.000000</td>\n",
       "      <td>0.000000</td>\n",
       "      <td>0.000175</td>\n",
       "      <td>0.000000</td>\n",
       "      <td>-46.448000</td>\n",
       "      <td>0.000000</td>\n",
       "      <td>0.000000</td>\n",
       "      <td>0.000000</td>\n",
       "      <td>0.000000</td>\n",
       "      <td>0.000000</td>\n",
       "      <td>0.000000</td>\n",
       "      <td>0.000000</td>\n",
       "      <td>4000.000000</td>\n",
       "    </tr>\n",
       "    <tr>\n",
       "      <th>25%</th>\n",
       "      <td>21.000000</td>\n",
       "      <td>0.561000</td>\n",
       "      <td>0.579000</td>\n",
       "      <td>2.000000</td>\n",
       "      <td>-8.309000</td>\n",
       "      <td>0.000000</td>\n",
       "      <td>0.041000</td>\n",
       "      <td>0.014400</td>\n",
       "      <td>0.000000</td>\n",
       "      <td>0.092600</td>\n",
       "      <td>0.329000</td>\n",
       "      <td>99.972000</td>\n",
       "      <td>187766.500000</td>\n",
       "    </tr>\n",
       "    <tr>\n",
       "      <th>50%</th>\n",
       "      <td>42.000000</td>\n",
       "      <td>0.670000</td>\n",
       "      <td>0.722000</td>\n",
       "      <td>6.000000</td>\n",
       "      <td>-6.262000</td>\n",
       "      <td>1.000000</td>\n",
       "      <td>0.062700</td>\n",
       "      <td>0.079700</td>\n",
       "      <td>0.000021</td>\n",
       "      <td>0.127000</td>\n",
       "      <td>0.512000</td>\n",
       "      <td>121.993000</td>\n",
       "      <td>216921.000000</td>\n",
       "    </tr>\n",
       "    <tr>\n",
       "      <th>75%</th>\n",
       "      <td>58.000000</td>\n",
       "      <td>0.760000</td>\n",
       "      <td>0.843000</td>\n",
       "      <td>9.000000</td>\n",
       "      <td>-4.708750</td>\n",
       "      <td>1.000000</td>\n",
       "      <td>0.133000</td>\n",
       "      <td>0.260000</td>\n",
       "      <td>0.006573</td>\n",
       "      <td>0.249000</td>\n",
       "      <td>0.695000</td>\n",
       "      <td>133.999500</td>\n",
       "      <td>254965.500000</td>\n",
       "    </tr>\n",
       "    <tr>\n",
       "      <th>max</th>\n",
       "      <td>100.000000</td>\n",
       "      <td>0.983000</td>\n",
       "      <td>1.000000</td>\n",
       "      <td>11.000000</td>\n",
       "      <td>1.275000</td>\n",
       "      <td>1.000000</td>\n",
       "      <td>0.918000</td>\n",
       "      <td>0.994000</td>\n",
       "      <td>0.994000</td>\n",
       "      <td>0.996000</td>\n",
       "      <td>0.991000</td>\n",
       "      <td>239.440000</td>\n",
       "      <td>517810.000000</td>\n",
       "    </tr>\n",
       "  </tbody>\n",
       "</table>\n",
       "</div>"
      ],
      "text/plain": [
       "       track_popularity  danceability        energy           key  \\\n",
       "count      28396.000000  28396.000000  28396.000000  28396.000000   \n",
       "mean          39.336104      0.653386      0.698387      5.368256   \n",
       "std           23.706486      0.145799      0.183484      3.613898   \n",
       "min            0.000000      0.000000      0.000175      0.000000   \n",
       "25%           21.000000      0.561000      0.579000      2.000000   \n",
       "50%           42.000000      0.670000      0.722000      6.000000   \n",
       "75%           58.000000      0.760000      0.843000      9.000000   \n",
       "max          100.000000      0.983000      1.000000     11.000000   \n",
       "\n",
       "           loudness          mode   speechiness  acousticness  \\\n",
       "count  28396.000000  28396.000000  28396.000000  28396.000000   \n",
       "mean      -6.817541      0.565397      0.107990      0.177263   \n",
       "std        3.036443      0.495714      0.102623      0.222908   \n",
       "min      -46.448000      0.000000      0.000000      0.000000   \n",
       "25%       -8.309000      0.000000      0.041000      0.014400   \n",
       "50%       -6.262000      1.000000      0.062700      0.079700   \n",
       "75%       -4.708750      1.000000      0.133000      0.260000   \n",
       "max        1.275000      1.000000      0.918000      0.994000   \n",
       "\n",
       "       instrumentalness      liveness       valence         tempo  \\\n",
       "count      28396.000000  28396.000000  28396.000000  28396.000000   \n",
       "mean           0.091143      0.190986      0.510434    120.955390   \n",
       "std            0.232566      0.156015      0.234309     26.957635   \n",
       "min            0.000000      0.000000      0.000000      0.000000   \n",
       "25%            0.000000      0.092600      0.329000     99.972000   \n",
       "50%            0.000021      0.127000      0.512000    121.993000   \n",
       "75%            0.006573      0.249000      0.695000    133.999500   \n",
       "max            0.994000      0.996000      0.991000    239.440000   \n",
       "\n",
       "         duration_ms  \n",
       "count   28396.000000  \n",
       "mean   226575.367094  \n",
       "std     61076.581384  \n",
       "min      4000.000000  \n",
       "25%    187766.500000  \n",
       "50%    216921.000000  \n",
       "75%    254965.500000  \n",
       "max    517810.000000  "
      ]
     },
     "execution_count": 161,
     "metadata": {},
     "output_type": "execute_result"
    }
   ],
   "source": [
    "song_data.describe()"
   ]
  },
  {
   "cell_type": "markdown",
   "metadata": {},
   "source": [
    "PARAMETERS:\n",
    "- Danceability (0-1): 0 ist least danceable and 1 most danceable\n",
    "- Energy (0-1): 0 less energy, 1 more energy, intensity, activity\n",
    "- Key (Pitch class notation), c=0, 1=c#Db, 2=D...., 11 keys in total. -1 is No key\n",
    "- Loudness(dB): average loudness across the entire track. values tipycal [-60 0]\n",
    "- Mode(major or minor): major =1, minor=0\n",
    "- Speechiness: detects the presence of spoken words in a track. the more speech = 1, 0.66 <= entirely spoken words, 0.33=> non-speech tracks, in between \n",
    "- Acoustieness(0-1): 1 = high confidence the track is acoustic\n",
    "- Instrumentalness: the closer is to 1, the grater likelihood the track contains no vocal content. 0.5<=are intended to represent instrumental traks.\n",
    "- Liveness: higher liveness, increased probability that the track was recorded live. 0.8<= strong likelihood that the track is live\n",
    "- Valence(0-1): tracks with high valance sound more happy \n",
    "- Tempo(Beats per minute)\n",
    "- Duration_ms (miliiseconds)\n",
    "\n",
    "OBSERVATIONS:\n",
    "- All the parameters are qualitative type, but put into a scale to describe the attributes. The only data that has units and is quantitative is Loudness (dB), Tempo (BPM) and duration_ms (ms)\n",
    "- Loudness of our data [-46.448, 1.27], and typical values goes from [-60 0]. So the audio that is bigger than 0 or is an outliner o was \"clipped\" because in digital audio this is not possible. Either way, we have to normalize this parameter or threat them as ourlitners and dismiss them, or just convert it to 0dB\n",
    "- It was decided that \"liveness\", \"mode\" and \"duration_ms\" is not a parameter we should use, it is not related with genre\n",
    "- All the songs has key, in other words, there is no \"-1\" in the key column"
   ]
  },
  {
   "cell_type": "markdown",
   "metadata": {},
   "source": [
    "### Table of average parameters for each genre"
   ]
  },
  {
   "cell_type": "code",
   "execution_count": 162,
   "metadata": {
    "tags": []
   },
   "outputs": [
    {
     "data": {
      "text/html": [
       "<div>\n",
       "<style scoped>\n",
       "    .dataframe tbody tr th:only-of-type {\n",
       "        vertical-align: middle;\n",
       "    }\n",
       "\n",
       "    .dataframe tbody tr th {\n",
       "        vertical-align: top;\n",
       "    }\n",
       "\n",
       "    .dataframe thead th {\n",
       "        text-align: right;\n",
       "    }\n",
       "</style>\n",
       "<table border=\"1\" class=\"dataframe\">\n",
       "  <thead>\n",
       "    <tr style=\"text-align: right;\">\n",
       "      <th></th>\n",
       "      <th>EDM</th>\n",
       "      <th>ROCK</th>\n",
       "      <th>RAP</th>\n",
       "      <th>LATIN</th>\n",
       "      <th>RNB</th>\n",
       "      <th>POP</th>\n",
       "    </tr>\n",
       "  </thead>\n",
       "  <tbody>\n",
       "    <tr>\n",
       "      <th>danceability</th>\n",
       "      <td>0.657675</td>\n",
       "      <td>0.518599</td>\n",
       "      <td>0.716019</td>\n",
       "      <td>0.711032</td>\n",
       "      <td>0.667465</td>\n",
       "      <td>0.637648</td>\n",
       "    </tr>\n",
       "    <tr>\n",
       "      <th>energy</th>\n",
       "      <td>0.809599</td>\n",
       "      <td>0.732942</td>\n",
       "      <td>0.649966</td>\n",
       "      <td>0.710556</td>\n",
       "      <td>0.589056</td>\n",
       "      <td>0.700940</td>\n",
       "    </tr>\n",
       "    <tr>\n",
       "      <th>key</th>\n",
       "      <td>5.355064</td>\n",
       "      <td>5.254174</td>\n",
       "      <td>5.431449</td>\n",
       "      <td>5.469580</td>\n",
       "      <td>5.381238</td>\n",
       "      <td>5.316936</td>\n",
       "    </tr>\n",
       "    <tr>\n",
       "      <th>loudness</th>\n",
       "      <td>-5.487558</td>\n",
       "      <td>-7.562313</td>\n",
       "      <td>-7.087460</td>\n",
       "      <td>-6.480431</td>\n",
       "      <td>-8.031843</td>\n",
       "      <td>-6.377415</td>\n",
       "    </tr>\n",
       "    <tr>\n",
       "      <th>speechiness</th>\n",
       "      <td>0.087976</td>\n",
       "      <td>0.057947</td>\n",
       "      <td>0.197466</td>\n",
       "      <td>0.100411</td>\n",
       "      <td>0.115639</td>\n",
       "      <td>0.074171</td>\n",
       "    </tr>\n",
       "    <tr>\n",
       "      <th>acousticness</th>\n",
       "      <td>0.077026</td>\n",
       "      <td>0.147625</td>\n",
       "      <td>0.196493</td>\n",
       "      <td>0.212494</td>\n",
       "      <td>0.264144</td>\n",
       "      <td>0.172402</td>\n",
       "    </tr>\n",
       "    <tr>\n",
       "      <th>instrumentalness</th>\n",
       "      <td>0.244743</td>\n",
       "      <td>0.066583</td>\n",
       "      <td>0.080089</td>\n",
       "      <td>0.052556</td>\n",
       "      <td>0.028499</td>\n",
       "      <td>0.063680</td>\n",
       "    </tr>\n",
       "    <tr>\n",
       "      <th>valence</th>\n",
       "      <td>0.397494</td>\n",
       "      <td>0.532581</td>\n",
       "      <td>0.505351</td>\n",
       "      <td>0.607292</td>\n",
       "      <td>0.537971</td>\n",
       "      <td>0.502188</td>\n",
       "    </tr>\n",
       "    <tr>\n",
       "      <th>tempo</th>\n",
       "      <td>126.328434</td>\n",
       "      <td>125.060102</td>\n",
       "      <td>120.549530</td>\n",
       "      <td>118.527269</td>\n",
       "      <td>113.929145</td>\n",
       "      <td>120.960428</td>\n",
       "    </tr>\n",
       "  </tbody>\n",
       "</table>\n",
       "</div>"
      ],
      "text/plain": [
       "                         EDM        ROCK         RAP       LATIN         RNB  \\\n",
       "danceability        0.657675    0.518599    0.716019    0.711032    0.667465   \n",
       "energy              0.809599    0.732942    0.649966    0.710556    0.589056   \n",
       "key                 5.355064    5.254174    5.431449    5.469580    5.381238   \n",
       "loudness           -5.487558   -7.562313   -7.087460   -6.480431   -8.031843   \n",
       "speechiness         0.087976    0.057947    0.197466    0.100411    0.115639   \n",
       "acousticness        0.077026    0.147625    0.196493    0.212494    0.264144   \n",
       "instrumentalness    0.244743    0.066583    0.080089    0.052556    0.028499   \n",
       "valence             0.397494    0.532581    0.505351    0.607292    0.537971   \n",
       "tempo             126.328434  125.060102  120.549530  118.527269  113.929145   \n",
       "\n",
       "                         POP  \n",
       "danceability        0.637648  \n",
       "energy              0.700940  \n",
       "key                 5.316936  \n",
       "loudness           -6.377415  \n",
       "speechiness         0.074171  \n",
       "acousticness        0.172402  \n",
       "instrumentalness    0.063680  \n",
       "valence             0.502188  \n",
       "tempo             120.960428  "
      ]
     },
     "execution_count": 162,
     "metadata": {},
     "output_type": "execute_result"
    }
   ],
   "source": [
    "# Data Validation\n",
    "subss = song_data.drop(['track_id','track_name','track_artist','track_popularity','liveness','mode','duration_ms'], axis = 1)  #dataframe with just numerical values and genre\n",
    "\n",
    "EDM = subss[subss[\"genre\"] == \"edm\"]\n",
    "ROCK = subss[subss[\"genre\"] == \"rock\"]\n",
    "RAP = subss[subss[\"genre\"] == \"rap\"]\n",
    "LATIN = subss[subss[\"genre\"] == \"latin\"]\n",
    "RNB = subss[subss[\"genre\"] == \"r&b\"]\n",
    "POP = subss[subss[\"genre\"] == \"pop\"]\n",
    "\n",
    "mean_summary = pd.DataFrame({\n",
    "    'EDM': EDM.describe().loc['mean'],\n",
    "    'ROCK': ROCK.describe().loc['mean'],\n",
    "    'RAP': RAP.describe().loc['mean'],\n",
    "    'LATIN': LATIN.describe().loc['mean'],\n",
    "    'RNB': RNB.describe().loc['mean'],\n",
    "    'POP': POP.describe().loc['mean']\n",
    "})\n",
    "mean_summary"
   ]
  },
  {
   "cell_type": "code",
   "execution_count": 163,
   "metadata": {
    "tags": []
   },
   "outputs": [
    {
     "name": "stdout",
     "output_type": "stream",
     "text": [
      "Highest danceability:  RAP  with  0.71602\n",
      "Lowest danceability:  ROCK  with  0.5186\n",
      "\n",
      "\n",
      "Highest energy:  EDM  with  0.8096\n",
      "Lowest energy:  RNB  with  0.58906\n",
      "\n",
      "\n",
      "Highest key :  LATIN  with  5.46958\n",
      "Lowest key :  ROCK  with  5.25417\n",
      "\n",
      "\n",
      "Highest loudness :  EDM  with  -5.48756\n",
      "Lowest loudness :  RNB  with  -8.03184\n",
      "\n",
      "\n",
      "Highest speechiness :  RAP  with  0.19747\n",
      "Lowest speechiness :  ROCK  with  0.05795\n",
      "\n",
      "\n",
      "Highest acousticness :  RNB  with  0.26414\n",
      "Lowest acousticness :  EDM  with  0.07703\n",
      "\n",
      "\n",
      "Highest instrumentalness:  RAP  with  0.24474\n",
      "Lowest instrumentalness:  RNB  with  0.0285\n",
      "\n",
      "\n",
      "Highest valence:  LATIN  with  0.60729\n",
      "Lowest valence:  EDM  with  0.39749\n",
      "\n",
      "\n",
      "Highest tempo:  EDM  with  126.32843\n",
      "Lowest tempo:  RNB  with  113.92915\n"
     ]
    }
   ],
   "source": [
    "print(\"Highest danceability: \",mean_summary.loc['danceability'].idxmax(), ' with ', round(mean_summary.loc['danceability'].max(),5))\n",
    "print(\"Lowest danceability: \",mean_summary.loc['danceability'].idxmin(), ' with ', round(mean_summary.loc['danceability'].min(),5))\n",
    "print('\\n')\n",
    "print(\"Highest energy: \",mean_summary.loc['energy'].idxmax(), ' with ', round(mean_summary.loc['energy'].max(),5))\n",
    "print(\"Lowest energy: \",mean_summary.loc['energy'].idxmin(), ' with ', round(mean_summary.loc['energy'].min(),5))\n",
    "print('\\n')\n",
    "print(\"Highest key : \",mean_summary.loc['key'].idxmax(), ' with ', round(mean_summary.loc['key'].max(),5))\n",
    "print(\"Lowest key : \",mean_summary.loc['key'].idxmin(), ' with ', round(mean_summary.loc['key'].min(),5))\n",
    "print('\\n')\n",
    "print(\"Highest loudness : \",mean_summary.loc['loudness'].idxmax(), ' with ', round(mean_summary.loc['loudness'].max(),5))\n",
    "print(\"Lowest loudness : \",mean_summary.loc['loudness'].idxmin(), ' with ', round(mean_summary.loc['loudness'].min(),5))\n",
    "print('\\n')\n",
    "print(\"Highest speechiness : \",mean_summary.loc['speechiness'].idxmax(), ' with ', round(mean_summary.loc['speechiness'].max(),5))\n",
    "print(\"Lowest speechiness : \",mean_summary.loc['speechiness'].idxmin(), ' with ', round(mean_summary.loc['speechiness'].min(),5))\n",
    "print('\\n')\n",
    "print(\"Highest acousticness : \",mean_summary.loc['acousticness'].idxmax(), ' with ', round(mean_summary.loc['acousticness'].max(),5))\n",
    "print(\"Lowest acousticness : \",mean_summary.loc['acousticness'].idxmin(), ' with ', round(mean_summary.loc['acousticness'].min(),5))\n",
    "print('\\n')\n",
    "print(\"Highest instrumentalness: \",mean_summary.loc['danceability'].idxmax(), ' with ', round(mean_summary.loc['instrumentalness'].max(),5))\n",
    "print(\"Lowest instrumentalness: \",mean_summary.loc['instrumentalness'].idxmin(), ' with ', round(mean_summary.loc['instrumentalness'].min(),5))\n",
    "print('\\n')\n",
    "print(\"Highest valence: \",mean_summary.loc['valence'].idxmax(), ' with ', round(mean_summary.loc['valence'].max(),5))\n",
    "print(\"Lowest valence: \",mean_summary.loc['valence'].idxmin(), ' with ', round(mean_summary.loc['valence'].min(),5))\n",
    "print('\\n')\n",
    "print(\"Highest tempo: \",mean_summary.loc['tempo'].idxmax(), ' with ', round(mean_summary.loc['tempo'].max(),5))\n",
    "print(\"Lowest tempo: \",mean_summary.loc['tempo'].idxmin(), ' with ', round(mean_summary.loc['tempo'].min(),5))"
   ]
  },
  {
   "cell_type": "markdown",
   "metadata": {},
   "source": [
    "### Distribution graphs per parameter vs genre"
   ]
  },
  {
   "cell_type": "code",
   "execution_count": 164,
   "metadata": {
    "tags": []
   },
   "outputs": [
    {
     "data": {
      "image/png": "[encoded data removed]",
      "text/plain": [
       "<Figure size 432x288 with 1 Axes>"
      ]
     },
     "metadata": {
      "needs_background": "light"
     },
     "output_type": "display_data"
    }
   ],
   "source": [
    "sns.boxplot(x='danceability', y='genre', data=song_data)\n",
    "plt.title('Distribution of danceability by Genre')\n",
    "plt.show()"
   ]
  },
  {
   "cell_type": "code",
   "execution_count": 165,
   "metadata": {
    "tags": []
   },
   "outputs": [
    {
     "data": {
      "image/png": "[encoded data removed]",
      "text/plain": [
       "<Figure size 432x288 with 1 Axes>"
      ]
     },
     "metadata": {
      "needs_background": "light"
     },
     "output_type": "display_data"
    }
   ],
   "source": [
    "sns.boxplot(x='energy', y='genre', data=song_data)\n",
    "plt.title('Distribution of energy by Genre')\n",
    "plt.show()"
   ]
  },
  {
   "cell_type": "code",
   "execution_count": 166,
   "metadata": {
    "tags": []
   },
   "outputs": [
    {
     "data": {
      "image/png": "[encoded data removed]",
      "text/plain": [
       "<Figure size 432x288 with 1 Axes>"
      ]
     },
     "metadata": {
      "needs_background": "light"
     },
     "output_type": "display_data"
    }
   ],
   "source": [
    "sns.boxplot(x='key', y='genre', data=song_data)\n",
    "plt.title('Distribution of key by Genre')\n",
    "plt.show()"
   ]
  },
  {
   "cell_type": "code",
   "execution_count": 167,
   "metadata": {
    "tags": []
   },
   "outputs": [
    {
     "data": {
      "image/png": "[encoded data removed]",
      "text/plain": [
       "<Figure size 432x288 with 1 Axes>"
      ]
     },
     "metadata": {
      "needs_background": "light"
     },
     "output_type": "display_data"
    }
   ],
   "source": [
    "sns.boxplot(x='loudness', y='genre', data=song_data)\n",
    "plt.title('Distribution of loudness by Genre')\n",
    "plt.show()"
   ]
  },
  {
   "cell_type": "code",
   "execution_count": 168,
   "metadata": {
    "tags": []
   },
   "outputs": [
    {
     "data": {
      "image/png": "[encoded data removed]",
      "text/plain": [
       "<Figure size 432x288 with 1 Axes>"
      ]
     },
     "metadata": {
      "needs_background": "light"
     },
     "output_type": "display_data"
    }
   ],
   "source": [
    "sns.boxplot(x='speechiness', y='genre', data=song_data)\n",
    "plt.title('Distribution of speechiness y by Genre')\n",
    "plt.show()"
   ]
  },
  {
   "cell_type": "code",
   "execution_count": 169,
   "metadata": {
    "tags": []
   },
   "outputs": [
    {
     "data": {
      "image/png": "[encoded data removed]",
      "text/plain": [
       "<Figure size 432x288 with 1 Axes>"
      ]
     },
     "metadata": {
      "needs_background": "light"
     },
     "output_type": "display_data"
    }
   ],
   "source": [
    "sns.boxplot(x='acousticness', y='genre', data=song_data)\n",
    "plt.title('Distribution of acousticness y by Genre')\n",
    "plt.show()"
   ]
  },
  {
   "cell_type": "code",
   "execution_count": 170,
   "metadata": {
    "tags": []
   },
   "outputs": [
    {
     "data": {
      "image/png": "[encoded data removed]",
      "text/plain": [
       "<Figure size 432x288 with 1 Axes>"
      ]
     },
     "metadata": {
      "needs_background": "light"
     },
     "output_type": "display_data"
    }
   ],
   "source": [
    "sns.boxplot(x='instrumentalness', y='genre', data=song_data)\n",
    "plt.title('Distribution of instrumentalness y by Genre')\n",
    "plt.show()"
   ]
  },
  {
   "cell_type": "code",
   "execution_count": 171,
   "metadata": {
    "tags": []
   },
   "outputs": [
    {
     "data": {
      "image/png": "[encoded data removed]",
      "text/plain": [
       "<Figure size 432x288 with 1 Axes>"
      ]
     },
     "metadata": {
      "needs_background": "light"
     },
     "output_type": "display_data"
    }
   ],
   "source": [
    "sns.boxplot(x='valence', y='genre', data=song_data)\n",
    "plt.title('Distribution of valence  y by Genre')\n",
    "plt.show()"
   ]
  },
  {
   "cell_type": "code",
   "execution_count": 172,
   "metadata": {
    "tags": []
   },
   "outputs": [
    {
     "data": {
      "image/png": "[encoded data removed]",
      "text/plain": [
       "<Figure size 432x288 with 1 Axes>"
      ]
     },
     "metadata": {
      "needs_background": "light"
     },
     "output_type": "display_data"
    }
   ],
   "source": [
    "sns.boxplot(x='tempo', y='genre', data=song_data)\n",
    "plt.title('Distribution of tempo y by Genre')\n",
    "plt.show()"
   ]
  },
  {
   "cell_type": "code",
   "execution_count": 173,
   "metadata": {
    "tags": []
   },
   "outputs": [
    {
     "data": {
      "image/png": "[encoded data removed]",
      "text/plain": [
       "<Figure size 576x432 with 2 Axes>"
      ]
     },
     "metadata": {
      "needs_background": "light"
     },
     "output_type": "display_data"
    }
   ],
   "source": [
    "# Correrlation matrix\n",
    "# First, drop the parameters that are not numerical\n",
    "X =subss.drop('genre', axis = 1)\n",
    "#corr_matrix = X.corr()\n",
    "correlation_matrix = X.corr()\n",
    "plt.figure(figsize=(8, 6))\n",
    "sns.heatmap(correlation_matrix, annot=True, fmt=\".2f\")\n",
    "plt.title('Correlation Heatmap')\n",
    "plt.show()"
   ]
  },
  {
   "cell_type": "markdown",
   "metadata": {},
   "source": [
    "### Conclusion of the EDA"
   ]
  },
  {
   "cell_type": "markdown",
   "metadata": {},
   "source": [
    "- Valance and danceability are related (the more happy is the song, the more danceability)\n",
    "- The more energy, less chance to be an acoustic song\n",
    "- strong relation with energy and loudness, therefore there is also a relation with loudness and acousticness\n",
    "- Danceability is considered important to find rock songs due its low value\n",
    "- Energy is important to find edm songs (highest value) and rnb songs (lowest value)\n",
    "- Key, most of the genre share similar keys, so maybe we could analyze more its importance. rock and pop avr. have lower keys\n",
    "- Loudness can be useful to find edm and rnb songs\n",
    "- speechiness is important to find rap songs, and rnb songs\n",
    "- acousticnes is important for rnb songs and edm songs\n",
    "- instrummentalness can be important for edm music\n",
    "- Valence is important for latin and edm\n",
    "- tempo, it is importan for edm, and also rap/rnb maybe"
   ]
  },
  {
   "cell_type": "markdown",
   "metadata": {},
   "source": [
    "## Data Preparation"
   ]
  },
  {
   "cell_type": "markdown",
   "metadata": {},
   "source": [
    "#### Standarization"
   ]
  },
  {
   "cell_type": "code",
   "execution_count": 174,
   "metadata": {},
   "outputs": [],
   "source": [
    "X = subss.drop('genre', axis= 1) # Features\n",
    "y = subss['genre'] # Target"
   ]
  },
  {
   "cell_type": "code",
   "execution_count": 175,
   "metadata": {},
   "outputs": [
    {
     "data": {
      "text/plain": [
       "(28396, 9)"
      ]
     },
     "execution_count": 175,
     "metadata": {},
     "output_type": "execute_result"
    }
   ],
   "source": [
    "X.shape"
   ]
  },
  {
   "cell_type": "code",
   "execution_count": 176,
   "metadata": {},
   "outputs": [],
   "source": [
    "# Importing the scaler\n",
    "\n",
    "from sklearn.preprocessing import StandardScaler"
   ]
  },
  {
   "cell_type": "code",
   "execution_count": 177,
   "metadata": {},
   "outputs": [],
   "source": [
    "# Standarizing the Features\n",
    "\n",
    "scaler = StandardScaler()\n",
    "X_scaled =  scaler.fit_transform(X)"
   ]
  },
  {
   "cell_type": "code",
   "execution_count": 178,
   "metadata": {},
   "outputs": [
    {
     "data": {
      "text/plain": [
       "array([[ 0.7312546 ,  1.44763518, -0.93204483, ...,  2.61804783,\n",
       "         0.55724686,  0.15003842],\n",
       "       [-0.496488  ,  0.72276255, -1.20875919, ..., -0.39190952,\n",
       "         1.59862538,  0.88023403],\n",
       "       [ 0.05222378,  0.33580047,  0.72824133, ..., -0.216902  ,\n",
       "        -0.30487799, -0.77761864],\n",
       "       ...,\n",
       "       [ 0.22369621, -1.99687234,  1.00495569, ...,  1.07866964,\n",
       "        -1.86054386, -1.48240356],\n",
       "       [ 1.31426086, -1.05399291,  1.28167006, ..., -0.39008634,\n",
       "        -1.30357706,  0.15141097],\n",
       "       [ 0.15510724, -0.63432981,  1.00495569, ..., -0.3649489 ,\n",
       "        -0.27073443,  0.11338768]])"
      ]
     },
     "execution_count": 178,
     "metadata": {},
     "output_type": "execute_result"
    }
   ],
   "source": [
    "# Features standarized\n",
    "X_scaled"
   ]
  },
  {
   "cell_type": "markdown",
   "metadata": {},
   "source": [
    "### Normalization"
   ]
  },
  {
   "cell_type": "code",
   "execution_count": 179,
   "metadata": {},
   "outputs": [],
   "source": [
    "# Importing the scaler\n",
    "\n",
    "from sklearn.preprocessing import MinMaxScaler"
   ]
  },
  {
   "cell_type": "code",
   "execution_count": 180,
   "metadata": {},
   "outputs": [],
   "source": [
    "# Normalizing the Features\n",
    "\n",
    "scaler = MinMaxScaler()\n",
    "X_scaled =  scaler.fit_transform(X_scaled)"
   ]
  },
  {
   "cell_type": "code",
   "execution_count": 181,
   "metadata": {},
   "outputs": [
    {
     "data": {
      "text/plain": [
       "array([[7.73143438e-01, 9.63993699e-01, 1.81818182e-01, ...,\n",
       "        7.04225352e-01, 6.46821393e-01, 5.22051453e-01],\n",
       "       [5.91047813e-01, 8.30970420e-01, 9.09090909e-02, ...,\n",
       "        0.00000000e+00, 8.93037336e-01, 6.04259940e-01],\n",
       "       [6.72431333e-01, 7.59957993e-01, 7.27272727e-01, ...,\n",
       "        4.09456740e-02, 4.42986882e-01, 4.17611928e-01],\n",
       "       ...,\n",
       "       [6.97863683e-01, 3.31883080e-01, 8.18181818e-01, ...,\n",
       "        3.44064386e-01, 7.51765893e-02, 3.38264283e-01],\n",
       "       [8.59613428e-01, 5.04913360e-01, 9.09090909e-01, ...,\n",
       "        4.26559356e-04, 2.06861756e-01, 5.22205981e-01],\n",
       "       [6.87690743e-01, 5.81926837e-01, 8.18181818e-01, ...,\n",
       "        6.30784708e-03, 4.51059536e-01, 5.17925159e-01]])"
      ]
     },
     "execution_count": 181,
     "metadata": {},
     "output_type": "execute_result"
    }
   ],
   "source": [
    "# Features normalized\n",
    "X_scaled"
   ]
  },
  {
   "cell_type": "code",
   "execution_count": 182,
   "metadata": {},
   "outputs": [
    {
     "name": "stdout",
     "output_type": "stream",
     "text": [
      "0.6646856362357858\n",
      "0.6983343656840186\n",
      "0.4880232811279438\n",
      "0.8304268107907083\n",
      "0.11763597990572794\n",
      "0.1783327683696205\n",
      "0.09169319858154423\n",
      "0.515070009931616\n",
      "0.5051594981248683\n"
     ]
    }
   ],
   "source": [
    "# Mean of each column preprocessed\n",
    "\n",
    "for column in X_scaled.T:\n",
    "    print(column.mean())"
   ]
  },
  {
   "cell_type": "markdown",
   "metadata": {},
   "source": [
    "### Labeling target"
   ]
  },
  {
   "cell_type": "code",
   "execution_count": 183,
   "metadata": {},
   "outputs": [],
   "source": [
    "# Importing the laber \n",
    "\n",
    "from sklearn.preprocessing import LabelEncoder"
   ]
  },
  {
   "cell_type": "code",
   "execution_count": 184,
   "metadata": {},
   "outputs": [],
   "source": [
    "# Labeling data\n",
    "\n",
    "label_encoder = LabelEncoder()\n",
    "y = label_encoder.fit_transform(y)"
   ]
  },
  {
   "cell_type": "code",
   "execution_count": 185,
   "metadata": {},
   "outputs": [
    {
     "data": {
      "text/plain": [
       "array([0, 5, 0, ..., 2, 0, 2])"
      ]
     },
     "execution_count": 185,
     "metadata": {},
     "output_type": "execute_result"
    }
   ],
   "source": [
    "# Targer labeled\n",
    "y"
   ]
  },
  {
   "cell_type": "markdown",
   "metadata": {},
   "source": [
    "### Train data splitting"
   ]
  },
  {
   "cell_type": "code",
   "execution_count": 186,
   "metadata": {},
   "outputs": [],
   "source": [
    "# Importing the splitter\n",
    "\n",
    "from sklearn.model_selection import train_test_split"
   ]
  },
  {
   "cell_type": "code",
   "execution_count": 187,
   "metadata": {},
   "outputs": [],
   "source": [
    "# Splitting the data\n",
    "\n",
    "X_train, X_test, y_train, y_test = train_test_split(X_scaled, y, test_size=0.2)"
   ]
  },
  {
   "cell_type": "code",
   "execution_count": 188,
   "metadata": {},
   "outputs": [
    {
     "name": "stdout",
     "output_type": "stream",
     "text": [
      "Training set:\n",
      "Features: (22716, 9) | Target: (22716,)\n",
      "=============================================\n",
      "Testing set:\n",
      "Features: (5680, 9) | Target: (5680,)\n"
     ]
    }
   ],
   "source": [
    "# Showing data\n",
    "print(f'Training set:')\n",
    "print(f'Features: {X_train.shape} | Target: {y_train.shape}' )\n",
    "print(f'=============================================')\n",
    "print(f'Testing set:')\n",
    "print(f'Features: {X_test.shape} | Target: {y_test.shape}' )"
   ]
  },
  {
   "cell_type": "markdown",
   "metadata": {},
   "source": [
    "## Model Training"
   ]
  },
  {
   "cell_type": "markdown",
   "metadata": {},
   "source": [
    "### **1. Random Forest**"
   ]
  },
  {
   "cell_type": "code",
   "execution_count": 189,
   "metadata": {},
   "outputs": [],
   "source": [
    "# Importing model\n",
    "\n",
    "from sklearn.ensemble import RandomForestClassifier"
   ]
  },
  {
   "cell_type": "code",
   "execution_count": 190,
   "metadata": {},
   "outputs": [
    {
     "data": {
      "text/plain": [
       "RandomForestClassifier(n_estimators=200)"
      ]
     },
     "execution_count": 190,
     "metadata": {},
     "output_type": "execute_result"
    }
   ],
   "source": [
    "# Training model\n",
    "model = RandomForestClassifier(n_estimators=200)\n",
    "model.fit(X_train, y_train)"
   ]
  },
  {
   "cell_type": "code",
   "execution_count": 191,
   "metadata": {},
   "outputs": [
    {
     "name": "stdout",
     "output_type": "stream",
     "text": [
      "===============================\n",
      "The total score was: 0.5514084507042254\n",
      "===============================\n"
     ]
    }
   ],
   "source": [
    "# Evaluating model\n",
    "score = model.score(X_test, y_test)\n",
    "print('===============================')\n",
    "print(f'The total score was: {score}')\n",
    "print('===============================')"
   ]
  },
  {
   "cell_type": "markdown",
   "metadata": {},
   "source": [
    "##### Score with Cross Validation"
   ]
  },
  {
   "cell_type": "code",
   "execution_count": 192,
   "metadata": {},
   "outputs": [
    {
     "name": "stdout",
     "output_type": "stream",
     "text": [
      "[0.51848592 0.52112676 0.5193662  0.4903169  0.50352113]\n"
     ]
    }
   ],
   "source": [
    "# Importing cross-validation\n",
    "from sklearn.model_selection import cross_val_score\n",
    "\n",
    "print(cross_val_score(model, X_test, y_test, cv=5))"
   ]
  },
  {
   "cell_type": "markdown",
   "metadata": {},
   "source": [
    "#### Results"
   ]
  },
  {
   "cell_type": "code",
   "execution_count": 193,
   "metadata": {},
   "outputs": [],
   "source": [
    "prediction = model.predict(X_test)"
   ]
  },
  {
   "cell_type": "code",
   "execution_count": 194,
   "metadata": {},
   "outputs": [],
   "source": [
    "# Importing confusion Matrix\n",
    "\n",
    "from sklearn.metrics import confusion_matrix"
   ]
  },
  {
   "cell_type": "code",
   "execution_count": 195,
   "metadata": {},
   "outputs": [
    {
     "data": {
      "image/png": "[encoded data removed]",
      "text/plain": [
       "<Figure size 720x576 with 2 Axes>"
      ]
     },
     "metadata": {
      "needs_background": "light"
     },
     "output_type": "display_data"
    }
   ],
   "source": [
    "# Confusion Matrix\n",
    "\n",
    "plt.figure(figsize=(10, 8))\n",
    "sns.heatmap(confusion_matrix(y_test, prediction), annot=True, fmt=\"g\", cmap=\"Blues\", xticklabels=label_encoder.classes_, yticklabels=label_encoder.classes_)\n",
    "plt.title('Confusion Heatmap')\n",
    "plt.show()"
   ]
  },
  {
   "cell_type": "code",
   "execution_count": 196,
   "metadata": {},
   "outputs": [],
   "source": [
    "# Acurracy \n",
    "from sklearn.metrics import accuracy_score\n",
    "accuracy = accuracy_score(y_test, prediction)\n",
    "\n",
    "# Recall\n",
    "from sklearn.metrics import recall_score\n",
    "recall = recall_score(y_test, prediction, average=None)\n",
    "\n",
    "# Precision\n",
    "from sklearn.metrics import precision_score\n",
    "precision = precision_score(y_test, prediction, average=None)"
   ]
  },
  {
   "cell_type": "code",
   "execution_count": 197,
   "metadata": {},
   "outputs": [
    {
     "name": "stdout",
     "output_type": "stream",
     "text": [
      "============================\n",
      "Random Forest Model Results:\n",
      "\n",
      "Accuracy: 0.5514084507042254 \n",
      "----edm----\n",
      "Recall: 0.703631010794897\n",
      "Precision: 0.6828571428571428\n",
      "----latin----\n",
      "Recall: 0.34803337306317045\n",
      "Precision: 0.49575551782682514\n",
      "----pop----\n",
      "Recall: 0.3822688274547188\n",
      "Precision: 0.4129763130792997\n",
      "----r&b----\n",
      "Recall: 0.46485260770975056\n",
      "Precision: 0.4685714285714286\n",
      "----rap----\n",
      "Recall: 0.6651075771749299\n",
      "Precision: 0.5761750405186385\n",
      "----rock----\n",
      "Recall: 0.7311435523114356\n",
      "Precision: 0.6253902185223725\n",
      "============================\n"
     ]
    }
   ],
   "source": [
    "# Displaying the scores\n",
    "\n",
    "print(f'============================')\n",
    "print(f'Random Forest Model Results:\\n')\n",
    "print(f'Accuracy: {accuracy} ')\n",
    "\n",
    "for i, genre in enumerate(label_encoder.classes_):\n",
    "    print(f'----{genre}----')\n",
    "    print(f'Recall: {recall[i]}')\n",
    "    print(f'Precision: {precision[i]}')\n",
    "print(f'============================')"
   ]
  },
  {
   "cell_type": "markdown",
   "metadata": {},
   "source": [
    "### **2. SVM**"
   ]
  },
  {
   "cell_type": "code",
   "execution_count": 198,
   "metadata": {},
   "outputs": [],
   "source": [
    "# Importing model\n",
    "\n",
    "from sklearn.svm import SVC"
   ]
  },
  {
   "cell_type": "code",
   "execution_count": 199,
   "metadata": {},
   "outputs": [
    {
     "data": {
      "text/plain": [
       "SVC()"
      ]
     },
     "execution_count": 199,
     "metadata": {},
     "output_type": "execute_result"
    }
   ],
   "source": [
    "# Training model\n",
    "model = SVC()\n",
    "model.fit(X_train, y_train)"
   ]
  },
  {
   "cell_type": "code",
   "execution_count": 200,
   "metadata": {},
   "outputs": [
    {
     "name": "stdout",
     "output_type": "stream",
     "text": [
      "===============================\n",
      "The total score was: 0.4876760563380282\n",
      "===============================\n"
     ]
    }
   ],
   "source": [
    "# Evaluating model\n",
    "score = model.score(X_test, y_test)\n",
    "print('===============================')\n",
    "print(f'The total score was: {score}')\n",
    "print('===============================')"
   ]
  },
  {
   "cell_type": "markdown",
   "metadata": {},
   "source": [
    "##### Score with Cross Validation"
   ]
  },
  {
   "cell_type": "code",
   "execution_count": 201,
   "metadata": {},
   "outputs": [
    {
     "name": "stdout",
     "output_type": "stream",
     "text": [
      "[0.4806338  0.46566901 0.48943662 0.46214789 0.45246479]\n"
     ]
    }
   ],
   "source": [
    "print(cross_val_score(model, X_test, y_test, cv=5))"
   ]
  },
  {
   "cell_type": "markdown",
   "metadata": {},
   "source": [
    "#### Results"
   ]
  },
  {
   "cell_type": "code",
   "execution_count": 202,
   "metadata": {},
   "outputs": [],
   "source": [
    "prediction = model.predict(X_test)"
   ]
  },
  {
   "cell_type": "code",
   "execution_count": 203,
   "metadata": {},
   "outputs": [
    {
     "data": {
      "image/png": "[encoded data removed]",
      "text/plain": [
       "<Figure size 720x576 with 2 Axes>"
      ]
     },
     "metadata": {
      "needs_background": "light"
     },
     "output_type": "display_data"
    }
   ],
   "source": [
    "# Confusion Matrix\n",
    "\n",
    "plt.figure(figsize=(10, 8))\n",
    "sns.heatmap(confusion_matrix(y_test, prediction), annot=True, fmt=\"g\", cmap=\"Blues\", xticklabels=label_encoder.classes_, yticklabels=label_encoder.classes_)\n",
    "plt.title('Confusion Heatmap')\n",
    "plt.show()"
   ]
  },
  {
   "cell_type": "code",
   "execution_count": 204,
   "metadata": {},
   "outputs": [],
   "source": [
    "# Acurracy \n",
    "accuracy = accuracy_score(y_test, prediction)\n",
    "\n",
    "# Recall\n",
    "recall = recall_score(y_test, prediction, average=None)\n",
    "\n",
    "# Precision\n",
    "precision = precision_score(y_test, prediction, average=None)"
   ]
  },
  {
   "cell_type": "code",
   "execution_count": 205,
   "metadata": {},
   "outputs": [
    {
     "name": "stdout",
     "output_type": "stream",
     "text": [
      "============================\n",
      "SVM Model Results:\n",
      "\n",
      "Accuracy: 0.4876760563380282 \n",
      "----edm----\n",
      "Recall: 0.5711481844946026\n",
      "Precision: 0.6217948717948718\n",
      "----latin----\n",
      "Recall: 0.2967818831942789\n",
      "Precision: 0.3890625\n",
      "----pop----\n",
      "Recall: 0.3794089609151573\n",
      "Precision: 0.35127978817299205\n",
      "----r&b----\n",
      "Recall: 0.3956916099773243\n",
      "Precision: 0.4144893111638955\n",
      "----rap----\n",
      "Recall: 0.6286248830682881\n",
      "Precision: 0.5508196721311476\n",
      "----rock----\n",
      "Recall: 0.6326034063260341\n",
      "Precision: 0.5720572057205721\n",
      "============================\n"
     ]
    }
   ],
   "source": [
    "# Displaying the scores\n",
    "\n",
    "print(f'============================')\n",
    "print(f'SVM Model Results:\\n')\n",
    "print(f'Accuracy: {accuracy} ')\n",
    "\n",
    "for i, genre in enumerate(label_encoder.classes_):\n",
    "    print(f'----{genre}----')\n",
    "    print(f'Recall: {recall[i]}')\n",
    "    print(f'Precision: {precision[i]}')\n",
    "print(f'============================')"
   ]
  },
  {
   "cell_type": "markdown",
   "metadata": {},
   "source": [
    "### **3. MLP**"
   ]
  },
  {
   "cell_type": "code",
   "execution_count": 206,
   "metadata": {},
   "outputs": [],
   "source": [
    "# Importing model\n",
    "\n",
    "from sklearn.neural_network import MLPClassifier"
   ]
  },
  {
   "cell_type": "code",
   "execution_count": 207,
   "metadata": {},
   "outputs": [
    {
     "name": "stderr",
     "output_type": "stream",
     "text": [
      "/home/francisco/anaconda3/lib/python3.9/site-packages/sklearn/neural_network/_multilayer_perceptron.py:692: ConvergenceWarning: Stochastic Optimizer: Maximum iterations (300) reached and the optimization hasn't converged yet.\n",
      "  warnings.warn(\n"
     ]
    },
    {
     "data": {
      "text/plain": [
       "MLPClassifier(max_iter=300, random_state=1)"
      ]
     },
     "execution_count": 207,
     "metadata": {},
     "output_type": "execute_result"
    }
   ],
   "source": [
    "# Training model\n",
    "model = MLPClassifier(random_state=1, max_iter=300)\n",
    "model.fit(X_train, y_train)"
   ]
  },
  {
   "cell_type": "code",
   "execution_count": 208,
   "metadata": {},
   "outputs": [
    {
     "name": "stdout",
     "output_type": "stream",
     "text": [
      "===============================\n",
      "The total score was: 0.5176056338028169\n",
      "===============================\n"
     ]
    }
   ],
   "source": [
    "# Evaluating model\n",
    "score = model.score(X_test, y_test)\n",
    "print('===============================')\n",
    "print(f'The total score was: {score}')\n",
    "print('===============================')"
   ]
  },
  {
   "cell_type": "markdown",
   "metadata": {},
   "source": [
    "##### Score with Cross Validation"
   ]
  },
  {
   "cell_type": "code",
   "execution_count": 209,
   "metadata": {},
   "outputs": [
    {
     "name": "stderr",
     "output_type": "stream",
     "text": [
      "/home/francisco/anaconda3/lib/python3.9/site-packages/sklearn/neural_network/_multilayer_perceptron.py:692: ConvergenceWarning: Stochastic Optimizer: Maximum iterations (300) reached and the optimization hasn't converged yet.\n",
      "  warnings.warn(\n",
      "/home/francisco/anaconda3/lib/python3.9/site-packages/sklearn/neural_network/_multilayer_perceptron.py:692: ConvergenceWarning: Stochastic Optimizer: Maximum iterations (300) reached and the optimization hasn't converged yet.\n",
      "  warnings.warn(\n",
      "/home/francisco/anaconda3/lib/python3.9/site-packages/sklearn/neural_network/_multilayer_perceptron.py:692: ConvergenceWarning: Stochastic Optimizer: Maximum iterations (300) reached and the optimization hasn't converged yet.\n",
      "  warnings.warn(\n",
      "/home/francisco/anaconda3/lib/python3.9/site-packages/sklearn/neural_network/_multilayer_perceptron.py:692: ConvergenceWarning: Stochastic Optimizer: Maximum iterations (300) reached and the optimization hasn't converged yet.\n",
      "  warnings.warn(\n"
     ]
    },
    {
     "name": "stdout",
     "output_type": "stream",
     "text": [
      "[0.49383803 0.47711268 0.50264085 0.46919014 0.47887324]\n"
     ]
    },
    {
     "name": "stderr",
     "output_type": "stream",
     "text": [
      "/home/francisco/anaconda3/lib/python3.9/site-packages/sklearn/neural_network/_multilayer_perceptron.py:692: ConvergenceWarning: Stochastic Optimizer: Maximum iterations (300) reached and the optimization hasn't converged yet.\n",
      "  warnings.warn(\n"
     ]
    }
   ],
   "source": [
    "print(cross_val_score(model, X_test, y_test, cv=5))"
   ]
  },
  {
   "cell_type": "markdown",
   "metadata": {},
   "source": [
    "#### Results"
   ]
  },
  {
   "cell_type": "code",
   "execution_count": 210,
   "metadata": {},
   "outputs": [],
   "source": [
    "prediction = model.predict(X_test)"
   ]
  },
  {
   "cell_type": "code",
   "execution_count": 211,
   "metadata": {},
   "outputs": [
    {
     "data": {
      "image/png": "[encoded data removed]",
      "text/plain": [
       "<Figure size 720x576 with 2 Axes>"
      ]
     },
     "metadata": {
      "needs_background": "light"
     },
     "output_type": "display_data"
    }
   ],
   "source": [
    "# Confusion Matrix\n",
    "\n",
    "plt.figure(figsize=(10, 8))\n",
    "sns.heatmap(confusion_matrix(y_test, prediction), annot=True, fmt=\"g\", cmap=\"Blues\", xticklabels=label_encoder.classes_, yticklabels=label_encoder.classes_)\n",
    "plt.title('Confusion Heatmap')\n",
    "plt.show()"
   ]
  },
  {
   "cell_type": "code",
   "execution_count": 212,
   "metadata": {},
   "outputs": [],
   "source": [
    "# Acurracy \n",
    "accuracy = accuracy_score(y_test, prediction)\n",
    "\n",
    "# Recall\n",
    "recall = recall_score(y_test, prediction, average=None)\n",
    "\n",
    "# Precision\n",
    "precision = precision_score(y_test, prediction, average=None)"
   ]
  },
  {
   "cell_type": "code",
   "execution_count": 213,
   "metadata": {},
   "outputs": [
    {
     "name": "stdout",
     "output_type": "stream",
     "text": [
      "============================\n",
      "MLP Model Results:\n",
      "\n",
      "Accuracy: 0.5176056338028169 \n",
      "----edm----\n",
      "Recall: 0.6722276741903828\n",
      "Precision: 0.6407857811038353\n",
      "----latin----\n",
      "Recall: 0.3289630512514899\n",
      "Precision: 0.3881856540084388\n",
      "----pop----\n",
      "Recall: 0.328884652049571\n",
      "Precision: 0.3942857142857143\n",
      "----r&b----\n",
      "Recall: 0.42063492063492064\n",
      "Precision: 0.424971363115693\n",
      "----rap----\n",
      "Recall: 0.6520112254443405\n",
      "Precision: 0.5731907894736842\n",
      "----rock----\n",
      "Recall: 0.6885644768856448\n",
      "Precision: 0.6047008547008547\n",
      "============================\n"
     ]
    }
   ],
   "source": [
    "# Displaying the scores\n",
    "\n",
    "print(f'============================')\n",
    "print(f'MLP Model Results:\\n')\n",
    "print(f'Accuracy: {accuracy} ')\n",
    "\n",
    "for i, genre in enumerate(label_encoder.classes_):\n",
    "    print(f'----{genre}----')\n",
    "    print(f'Recall: {recall[i]}')\n",
    "    print(f'Precision: {precision[i]}')\n",
    "print(f'============================')"
   ]
  },
  {
   "cell_type": "markdown",
   "metadata": {},
   "source": [
    "## Enhancing the models"
   ]
  },
  {
   "cell_type": "markdown",
   "metadata": {},
   "source": [
    "#### PCA"
   ]
  },
  {
   "cell_type": "code",
   "execution_count": 214,
   "metadata": {},
   "outputs": [],
   "source": [
    "# Importing PCA\n",
    "from sklearn.decomposition import PCA"
   ]
  },
  {
   "cell_type": "code",
   "execution_count": 215,
   "metadata": {},
   "outputs": [],
   "source": [
    "# Applying PCA to the dataset\n",
    "pca = PCA()\n",
    "pca.fit(X_scaled)\n",
    "X_reduced = pca.transform(X_scaled)"
   ]
  },
  {
   "cell_type": "code",
   "execution_count": 216,
   "metadata": {},
   "outputs": [
    {
     "data": {
      "text/plain": [
       "array([[-0.2948561 , -0.11818618,  0.43991921, ..., -0.0274236 ,\n",
       "        -0.03191669,  0.01670357],\n",
       "       [-0.38293279, -0.38178249, -0.10956417, ...,  0.06903801,\n",
       "         0.0101947 ,  0.04342925],\n",
       "       [ 0.23679839, -0.10069777,  0.13093216, ..., -0.13030771,\n",
       "        -0.00684861, -0.02257461],\n",
       "       ...,\n",
       "       [ 0.31029984,  0.93671331, -0.17528255, ..., -0.14440809,\n",
       "        -0.02687636,  0.02068945],\n",
       "       [ 0.40788599,  0.14705614,  0.08617855, ..., -0.01792132,\n",
       "        -0.15472252, -0.05114422],\n",
       "       [ 0.32602802,  0.09315195, -0.07921654, ...,  0.03139799,\n",
       "        -0.01666805, -0.00660299]])"
      ]
     },
     "execution_count": 216,
     "metadata": {},
     "output_type": "execute_result"
    }
   ],
   "source": [
    "# Displaying the results\n",
    "X_reduced"
   ]
  },
  {
   "cell_type": "code",
   "execution_count": 217,
   "metadata": {},
   "outputs": [
    {
     "data": {
      "text/plain": [
       "(28396, 9)"
      ]
     },
     "execution_count": 217,
     "metadata": {},
     "output_type": "execute_result"
    }
   ],
   "source": [
    "# Checking the size\n",
    "X_reduced.shape"
   ]
  },
  {
   "cell_type": "code",
   "execution_count": 218,
   "metadata": {},
   "outputs": [],
   "source": [
    "# Splitting the data\n",
    "\n",
    "X_train, X_test, y_train, y_test = train_test_split(X_reduced, y, test_size=0.2)"
   ]
  },
  {
   "cell_type": "code",
   "execution_count": 219,
   "metadata": {},
   "outputs": [
    {
     "name": "stdout",
     "output_type": "stream",
     "text": [
      "Training set:\n",
      "Features: (22716, 9) | Target: (22716,)\n",
      "=============================================\n",
      "Testing set:\n",
      "Features: (5680, 9) | Target: (5680,)\n"
     ]
    }
   ],
   "source": [
    "# Showing data\n",
    "print(f'Training set:')\n",
    "print(f'Features: {X_train.shape} | Target: {y_train.shape}' )\n",
    "print(f'=============================================')\n",
    "print(f'Testing set:')\n",
    "print(f'Features: {X_test.shape} | Target: {y_test.shape}' )"
   ]
  },
  {
   "cell_type": "markdown",
   "metadata": {},
   "source": [
    "### Tuning hyperparameters on each model using GridSearchCV"
   ]
  },
  {
   "cell_type": "code",
   "execution_count": 220,
   "metadata": {},
   "outputs": [],
   "source": [
    "# Importing the GridSearchCV\n",
    "\n",
    "from sklearn.model_selection import GridSearchCV"
   ]
  },
  {
   "cell_type": "markdown",
   "metadata": {},
   "source": [
    "#### **1.Random Forest**"
   ]
  },
  {
   "cell_type": "code",
   "execution_count": 230,
   "metadata": {},
   "outputs": [],
   "source": [
    "# Setting the param grid\n",
    "\n",
    "param_grid = { \n",
    "    'n_estimators': [25, 50, 100, 150], \n",
    "    'max_features': ['sqrt', 'log2', None], \n",
    "    'max_depth': [3, 6, 9, None], \n",
    "    'max_leaf_nodes': [3, 6, 9, None], \n",
    "} "
   ]
  },
  {
   "cell_type": "code",
   "execution_count": 233,
   "metadata": {},
   "outputs": [
    {
     "name": "stdout",
     "output_type": "stream",
     "text": [
      "RandomForestClassifier(max_features='sqrt', n_estimators=150)\n"
     ]
    }
   ],
   "source": [
    "# Applying the Grid Search\n",
    "\n",
    "grid_search = GridSearchCV(RandomForestClassifier(), \n",
    "                           param_grid=param_grid, n_jobs=6) \n",
    "grid_search.fit(X_train, y_train) \n",
    "print(grid_search.best_estimator_) "
   ]
  },
  {
   "cell_type": "code",
   "execution_count": 234,
   "metadata": {},
   "outputs": [
    {
     "name": "stdout",
     "output_type": "stream",
     "text": [
      "===============================\n",
      "The total score was: 0.5313380281690141\n",
      "===============================\n"
     ]
    }
   ],
   "source": [
    "model_grid = RandomForestClassifier(max_features='sqrt', n_estimators=150)\n",
    "model_grid.fit(X_train, y_train) \n",
    "# Evaluating model\n",
    "score = model_grid.score(X_test, y_test)\n",
    "print('===============================')\n",
    "print(f'The total score was: {score}')\n",
    "print('===============================')"
   ]
  },
  {
   "cell_type": "code",
   "execution_count": 235,
   "metadata": {},
   "outputs": [
    {
     "name": "stdout",
     "output_type": "stream",
     "text": [
      "============================\n",
      "Random Forest Model Results: with Enhancing\n",
      "\n",
      "Accuracy: 0.5313380281690141 \n",
      "----edm----\n",
      "Recall: 0.6430769230769231\n",
      "Precision: 0.6346153846153846\n",
      "----latin----\n",
      "Recall: 0.3353221957040573\n",
      "Precision: 0.49040139616055844\n",
      "----pop----\n",
      "Recall: 0.3824975417895772\n",
      "Precision: 0.4018595041322314\n",
      "----r&b----\n",
      "Recall: 0.44704570791527315\n",
      "Precision: 0.46039035591274396\n",
      "----rap----\n",
      "Recall: 0.6771799628942486\n",
      "Precision: 0.5707584050039093\n",
      "----rock----\n",
      "Recall: 0.6742857142857143\n",
      "Precision: 0.5894105894105894\n",
      "============================\n"
     ]
    }
   ],
   "source": [
    "# Prediction\n",
    "prediction = model_grid.predict(X_test)\n",
    "# Acurracy \n",
    "accuracy = accuracy_score(y_test, prediction)\n",
    "# Recall\n",
    "recall = recall_score(y_test, prediction, average=None)\n",
    "# Precision\n",
    "precision = precision_score(y_test, prediction, average=None)\n",
    "\n",
    "# Displaying the scores\n",
    "print(f'============================')\n",
    "print(f'Random Forest Model Results: with Enhancing\\n')\n",
    "print(f'Accuracy: {accuracy} ')\n",
    "\n",
    "for i, genre in enumerate(label_encoder.classes_):\n",
    "    print(f'----{genre}----')\n",
    "    print(f'Recall: {recall[i]}')\n",
    "    print(f'Precision: {precision[i]}')\n",
    "print(f'============================')\n"
   ]
  },
  {
   "cell_type": "code",
   "execution_count": 236,
   "metadata": {},
   "outputs": [
    {
     "data": {
      "image/png": "[encoded data removed]",
      "text/plain": [
       "<Figure size 720x576 with 2 Axes>"
      ]
     },
     "metadata": {
      "needs_background": "light"
     },
     "output_type": "display_data"
    }
   ],
   "source": [
    "# Confusion Matrix\n",
    "\n",
    "plt.figure(figsize=(10, 8))\n",
    "sns.heatmap(confusion_matrix(y_test, prediction), annot=True, fmt=\"g\", cmap=\"Blues\", xticklabels=label_encoder.classes_, yticklabels=label_encoder.classes_)\n",
    "plt.title('Confusion Heatmap')\n",
    "plt.show()"
   ]
  },
  {
   "cell_type": "markdown",
   "metadata": {},
   "source": [
    "#### **2.SVC**"
   ]
  },
  {
   "cell_type": "code",
   "execution_count": 237,
   "metadata": {},
   "outputs": [],
   "source": [
    "# Setting the param grid\n",
    "\n",
    "param_grid = {'C': [0.1, 1, 10, 100, 1000],  \n",
    "              'gamma': [1, 0.1, 0.01, 0.001, 0.0001], \n",
    "              'kernel': ['rbf']}"
   ]
  },
  {
   "cell_type": "code",
   "execution_count": 239,
   "metadata": {},
   "outputs": [
    {
     "name": "stdout",
     "output_type": "stream",
     "text": [
      "SVC(C=100, gamma=1)\n"
     ]
    }
   ],
   "source": [
    "# Applying the Grid Search\n",
    "\n",
    "grid_search = GridSearchCV(SVC(), \n",
    "                           param_grid=param_grid, n_jobs=6) \n",
    "grid_search.fit(X_train, y_train) \n",
    "print(grid_search.best_estimator_) "
   ]
  },
  {
   "cell_type": "code",
   "execution_count": 240,
   "metadata": {},
   "outputs": [
    {
     "name": "stdout",
     "output_type": "stream",
     "text": [
      "===============================\n",
      "The total score was: 0.5177816901408451\n",
      "===============================\n"
     ]
    }
   ],
   "source": [
    "model_grid = SVC(C=100, gamma=1)\n",
    "model_grid.fit(X_train, y_train) \n",
    "# Evaluating model\n",
    "score = model_grid.score(X_test, y_test)\n",
    "print('===============================')\n",
    "print(f'The total score was: {score}')\n",
    "print('===============================')"
   ]
  },
  {
   "cell_type": "code",
   "execution_count": 241,
   "metadata": {},
   "outputs": [
    {
     "name": "stdout",
     "output_type": "stream",
     "text": [
      "============================\n",
      "SVC Model Results: with Enhancing\n",
      "\n",
      "Accuracy: 0.5177816901408451 \n",
      "----edm----\n",
      "Recall: 0.6276923076923077\n",
      "Precision: 0.6181818181818182\n",
      "----latin----\n",
      "Recall: 0.28162291169451076\n",
      "Precision: 0.466403162055336\n",
      "----pop----\n",
      "Recall: 0.40216322517207476\n",
      "Precision: 0.3787037037037037\n",
      "----r&b----\n",
      "Recall: 0.4169453734671126\n",
      "Precision: 0.43538998835855647\n",
      "----rap----\n",
      "Recall: 0.6558441558441559\n",
      "Precision: 0.5584518167456556\n",
      "----rock----\n",
      "Recall: 0.6891428571428572\n",
      "Precision: 0.6159346271705822\n",
      "============================\n"
     ]
    }
   ],
   "source": [
    "# Prediction\n",
    "prediction = model_grid.predict(X_test)\n",
    "# Acurracy \n",
    "accuracy = accuracy_score(y_test, prediction)\n",
    "# Recall\n",
    "recall = recall_score(y_test, prediction, average=None)\n",
    "# Precision\n",
    "precision = precision_score(y_test, prediction, average=None)\n",
    "\n",
    "# Displaying the scores\n",
    "print(f'============================')\n",
    "print(f'SVC Model Results: with Enhancing\\n')\n",
    "print(f'Accuracy: {accuracy} ')\n",
    "\n",
    "for i, genre in enumerate(label_encoder.classes_):\n",
    "    print(f'----{genre}----')\n",
    "    print(f'Recall: {recall[i]}')\n",
    "    print(f'Precision: {precision[i]}')\n",
    "print(f'============================')\n"
   ]
  },
  {
   "cell_type": "code",
   "execution_count": 242,
   "metadata": {},
   "outputs": [
    {
     "data": {
      "image/png": "[encoded data removed]",
      "text/plain": [
       "<Figure size 720x576 with 2 Axes>"
      ]
     },
     "metadata": {
      "needs_background": "light"
     },
     "output_type": "display_data"
    }
   ],
   "source": [
    "# Confusion Matrix\n",
    "\n",
    "plt.figure(figsize=(10, 8))\n",
    "sns.heatmap(confusion_matrix(y_test, prediction), annot=True, fmt=\"g\", cmap=\"Blues\", xticklabels=label_encoder.classes_, yticklabels=label_encoder.classes_)\n",
    "plt.title('Confusion Heatmap')\n",
    "plt.show()"
   ]
  },
  {
   "cell_type": "markdown",
   "metadata": {},
   "source": [
    "#### **3.MLP**"
   ]
  },
  {
   "cell_type": "code",
   "execution_count": 243,
   "metadata": {},
   "outputs": [],
   "source": [
    "# Setting the param grid\n",
    "\n",
    "param_grid = {\n",
    "    'hidden_layer_sizes': [(10,30,10),(20,)],\n",
    "    'activation': ['tanh', 'relu'],\n",
    "    'solver': ['sgd', 'adam'],\n",
    "    'alpha': [0.0001, 0.05],\n",
    "    'learning_rate': ['constant','adaptive'],\n",
    "}"
   ]
  },
  {
   "cell_type": "code",
   "execution_count": 244,
   "metadata": {},
   "outputs": [
    {
     "name": "stderr",
     "output_type": "stream",
     "text": [
      "/home/francisco/anaconda3/lib/python3.9/site-packages/sklearn/neural_network/_multilayer_perceptron.py:692: ConvergenceWarning: Stochastic Optimizer: Maximum iterations (200) reached and the optimization hasn't converged yet.\n",
      "  warnings.warn(\n",
      "/home/francisco/anaconda3/lib/python3.9/site-packages/sklearn/neural_network/_multilayer_perceptron.py:692: ConvergenceWarning: Stochastic Optimizer: Maximum iterations (200) reached and the optimization hasn't converged yet.\n",
      "  warnings.warn(\n",
      "/home/francisco/anaconda3/lib/python3.9/site-packages/sklearn/neural_network/_multilayer_perceptron.py:692: ConvergenceWarning: Stochastic Optimizer: Maximum iterations (200) reached and the optimization hasn't converged yet.\n",
      "  warnings.warn(\n",
      "/home/francisco/anaconda3/lib/python3.9/site-packages/sklearn/neural_network/_multilayer_perceptron.py:692: ConvergenceWarning: Stochastic Optimizer: Maximum iterations (200) reached and the optimization hasn't converged yet.\n",
      "  warnings.warn(\n",
      "/home/francisco/anaconda3/lib/python3.9/site-packages/sklearn/neural_network/_multilayer_perceptron.py:692: ConvergenceWarning: Stochastic Optimizer: Maximum iterations (200) reached and the optimization hasn't converged yet.\n",
      "  warnings.warn(\n",
      "/home/francisco/anaconda3/lib/python3.9/site-packages/sklearn/neural_network/_multilayer_perceptron.py:692: ConvergenceWarning: Stochastic Optimizer: Maximum iterations (200) reached and the optimization hasn't converged yet.\n",
      "  warnings.warn(\n",
      "/home/francisco/anaconda3/lib/python3.9/site-packages/sklearn/neural_network/_multilayer_perceptron.py:692: ConvergenceWarning: Stochastic Optimizer: Maximum iterations (200) reached and the optimization hasn't converged yet.\n",
      "  warnings.warn(\n",
      "/home/francisco/anaconda3/lib/python3.9/site-packages/sklearn/neural_network/_multilayer_perceptron.py:692: ConvergenceWarning: Stochastic Optimizer: Maximum iterations (200) reached and the optimization hasn't converged yet.\n",
      "  warnings.warn(\n",
      "/home/francisco/anaconda3/lib/python3.9/site-packages/sklearn/neural_network/_multilayer_perceptron.py:692: ConvergenceWarning: Stochastic Optimizer: Maximum iterations (200) reached and the optimization hasn't converged yet.\n",
      "  warnings.warn(\n",
      "/home/francisco/anaconda3/lib/python3.9/site-packages/sklearn/neural_network/_multilayer_perceptron.py:692: ConvergenceWarning: Stochastic Optimizer: Maximum iterations (200) reached and the optimization hasn't converged yet.\n",
      "  warnings.warn(\n",
      "/home/francisco/anaconda3/lib/python3.9/site-packages/sklearn/neural_network/_multilayer_perceptron.py:692: ConvergenceWarning: Stochastic Optimizer: Maximum iterations (200) reached and the optimization hasn't converged yet.\n",
      "  warnings.warn(\n",
      "/home/francisco/anaconda3/lib/python3.9/site-packages/sklearn/neural_network/_multilayer_perceptron.py:692: ConvergenceWarning: Stochastic Optimizer: Maximum iterations (200) reached and the optimization hasn't converged yet.\n",
      "  warnings.warn(\n",
      "/home/francisco/anaconda3/lib/python3.9/site-packages/sklearn/neural_network/_multilayer_perceptron.py:692: ConvergenceWarning: Stochastic Optimizer: Maximum iterations (200) reached and the optimization hasn't converged yet.\n",
      "  warnings.warn(\n",
      "/home/francisco/anaconda3/lib/python3.9/site-packages/sklearn/neural_network/_multilayer_perceptron.py:692: ConvergenceWarning: Stochastic Optimizer: Maximum iterations (200) reached and the optimization hasn't converged yet.\n",
      "  warnings.warn(\n",
      "/home/francisco/anaconda3/lib/python3.9/site-packages/sklearn/neural_network/_multilayer_perceptron.py:692: ConvergenceWarning: Stochastic Optimizer: Maximum iterations (200) reached and the optimization hasn't converged yet.\n",
      "  warnings.warn(\n",
      "/home/francisco/anaconda3/lib/python3.9/site-packages/sklearn/neural_network/_multilayer_perceptron.py:692: ConvergenceWarning: Stochastic Optimizer: Maximum iterations (200) reached and the optimization hasn't converged yet.\n",
      "  warnings.warn(\n",
      "/home/francisco/anaconda3/lib/python3.9/site-packages/sklearn/neural_network/_multilayer_perceptron.py:692: ConvergenceWarning: Stochastic Optimizer: Maximum iterations (200) reached and the optimization hasn't converged yet.\n",
      "  warnings.warn(\n",
      "/home/francisco/anaconda3/lib/python3.9/site-packages/sklearn/neural_network/_multilayer_perceptron.py:692: ConvergenceWarning: Stochastic Optimizer: Maximum iterations (200) reached and the optimization hasn't converged yet.\n",
      "  warnings.warn(\n",
      "/home/francisco/anaconda3/lib/python3.9/site-packages/sklearn/neural_network/_multilayer_perceptron.py:692: ConvergenceWarning: Stochastic Optimizer: Maximum iterations (200) reached and the optimization hasn't converged yet.\n",
      "  warnings.warn(\n",
      "/home/francisco/anaconda3/lib/python3.9/site-packages/sklearn/neural_network/_multilayer_perceptron.py:692: ConvergenceWarning: Stochastic Optimizer: Maximum iterations (200) reached and the optimization hasn't converged yet.\n",
      "  warnings.warn(\n",
      "/home/francisco/anaconda3/lib/python3.9/site-packages/sklearn/neural_network/_multilayer_perceptron.py:692: ConvergenceWarning: Stochastic Optimizer: Maximum iterations (200) reached and the optimization hasn't converged yet.\n",
      "  warnings.warn(\n",
      "/home/francisco/anaconda3/lib/python3.9/site-packages/sklearn/neural_network/_multilayer_perceptron.py:692: ConvergenceWarning: Stochastic Optimizer: Maximum iterations (200) reached and the optimization hasn't converged yet.\n",
      "  warnings.warn(\n",
      "/home/francisco/anaconda3/lib/python3.9/site-packages/sklearn/neural_network/_multilayer_perceptron.py:692: ConvergenceWarning: Stochastic Optimizer: Maximum iterations (200) reached and the optimization hasn't converged yet.\n",
      "  warnings.warn(\n",
      "/home/francisco/anaconda3/lib/python3.9/site-packages/sklearn/neural_network/_multilayer_perceptron.py:692: ConvergenceWarning: Stochastic Optimizer: Maximum iterations (200) reached and the optimization hasn't converged yet.\n",
      "  warnings.warn(\n",
      "/home/francisco/anaconda3/lib/python3.9/site-packages/sklearn/neural_network/_multilayer_perceptron.py:692: ConvergenceWarning: Stochastic Optimizer: Maximum iterations (200) reached and the optimization hasn't converged yet.\n",
      "  warnings.warn(\n",
      "/home/francisco/anaconda3/lib/python3.9/site-packages/sklearn/neural_network/_multilayer_perceptron.py:692: ConvergenceWarning: Stochastic Optimizer: Maximum iterations (200) reached and the optimization hasn't converged yet.\n",
      "  warnings.warn(\n",
      "/home/francisco/anaconda3/lib/python3.9/site-packages/sklearn/neural_network/_multilayer_perceptron.py:692: ConvergenceWarning: Stochastic Optimizer: Maximum iterations (200) reached and the optimization hasn't converged yet.\n",
      "  warnings.warn(\n",
      "/home/francisco/anaconda3/lib/python3.9/site-packages/sklearn/neural_network/_multilayer_perceptron.py:692: ConvergenceWarning: Stochastic Optimizer: Maximum iterations (200) reached and the optimization hasn't converged yet.\n",
      "  warnings.warn(\n",
      "/home/francisco/anaconda3/lib/python3.9/site-packages/sklearn/neural_network/_multilayer_perceptron.py:692: ConvergenceWarning: Stochastic Optimizer: Maximum iterations (200) reached and the optimization hasn't converged yet.\n",
      "  warnings.warn(\n",
      "/home/francisco/anaconda3/lib/python3.9/site-packages/sklearn/neural_network/_multilayer_perceptron.py:692: ConvergenceWarning: Stochastic Optimizer: Maximum iterations (200) reached and the optimization hasn't converged yet.\n",
      "  warnings.warn(\n",
      "/home/francisco/anaconda3/lib/python3.9/site-packages/sklearn/neural_network/_multilayer_perceptron.py:692: ConvergenceWarning: Stochastic Optimizer: Maximum iterations (200) reached and the optimization hasn't converged yet.\n",
      "  warnings.warn(\n",
      "/home/francisco/anaconda3/lib/python3.9/site-packages/sklearn/neural_network/_multilayer_perceptron.py:692: ConvergenceWarning: Stochastic Optimizer: Maximum iterations (200) reached and the optimization hasn't converged yet.\n",
      "  warnings.warn(\n",
      "/home/francisco/anaconda3/lib/python3.9/site-packages/sklearn/neural_network/_multilayer_perceptron.py:692: ConvergenceWarning: Stochastic Optimizer: Maximum iterations (200) reached and the optimization hasn't converged yet.\n",
      "  warnings.warn(\n",
      "/home/francisco/anaconda3/lib/python3.9/site-packages/sklearn/neural_network/_multilayer_perceptron.py:692: ConvergenceWarning: Stochastic Optimizer: Maximum iterations (200) reached and the optimization hasn't converged yet.\n",
      "  warnings.warn(\n",
      "/home/francisco/anaconda3/lib/python3.9/site-packages/sklearn/neural_network/_multilayer_perceptron.py:692: ConvergenceWarning: Stochastic Optimizer: Maximum iterations (200) reached and the optimization hasn't converged yet.\n",
      "  warnings.warn(\n",
      "/home/francisco/anaconda3/lib/python3.9/site-packages/sklearn/neural_network/_multilayer_perceptron.py:692: ConvergenceWarning: Stochastic Optimizer: Maximum iterations (200) reached and the optimization hasn't converged yet.\n",
      "  warnings.warn(\n",
      "/home/francisco/anaconda3/lib/python3.9/site-packages/sklearn/neural_network/_multilayer_perceptron.py:692: ConvergenceWarning: Stochastic Optimizer: Maximum iterations (200) reached and the optimization hasn't converged yet.\n",
      "  warnings.warn(\n",
      "/home/francisco/anaconda3/lib/python3.9/site-packages/sklearn/neural_network/_multilayer_perceptron.py:692: ConvergenceWarning: Stochastic Optimizer: Maximum iterations (200) reached and the optimization hasn't converged yet.\n",
      "  warnings.warn(\n",
      "/home/francisco/anaconda3/lib/python3.9/site-packages/sklearn/neural_network/_multilayer_perceptron.py:692: ConvergenceWarning: Stochastic Optimizer: Maximum iterations (200) reached and the optimization hasn't converged yet.\n",
      "  warnings.warn(\n",
      "/home/francisco/anaconda3/lib/python3.9/site-packages/sklearn/neural_network/_multilayer_perceptron.py:692: ConvergenceWarning: Stochastic Optimizer: Maximum iterations (200) reached and the optimization hasn't converged yet.\n",
      "  warnings.warn(\n",
      "/home/francisco/anaconda3/lib/python3.9/site-packages/sklearn/neural_network/_multilayer_perceptron.py:692: ConvergenceWarning: Stochastic Optimizer: Maximum iterations (200) reached and the optimization hasn't converged yet.\n",
      "  warnings.warn(\n",
      "/home/francisco/anaconda3/lib/python3.9/site-packages/sklearn/neural_network/_multilayer_perceptron.py:692: ConvergenceWarning: Stochastic Optimizer: Maximum iterations (200) reached and the optimization hasn't converged yet.\n",
      "  warnings.warn(\n",
      "/home/francisco/anaconda3/lib/python3.9/site-packages/sklearn/neural_network/_multilayer_perceptron.py:692: ConvergenceWarning: Stochastic Optimizer: Maximum iterations (200) reached and the optimization hasn't converged yet.\n",
      "  warnings.warn(\n",
      "/home/francisco/anaconda3/lib/python3.9/site-packages/sklearn/neural_network/_multilayer_perceptron.py:692: ConvergenceWarning: Stochastic Optimizer: Maximum iterations (200) reached and the optimization hasn't converged yet.\n",
      "  warnings.warn(\n",
      "/home/francisco/anaconda3/lib/python3.9/site-packages/sklearn/neural_network/_multilayer_perceptron.py:692: ConvergenceWarning: Stochastic Optimizer: Maximum iterations (200) reached and the optimization hasn't converged yet.\n",
      "  warnings.warn(\n",
      "/home/francisco/anaconda3/lib/python3.9/site-packages/sklearn/neural_network/_multilayer_perceptron.py:692: ConvergenceWarning: Stochastic Optimizer: Maximum iterations (200) reached and the optimization hasn't converged yet.\n",
      "  warnings.warn(\n",
      "/home/francisco/anaconda3/lib/python3.9/site-packages/sklearn/neural_network/_multilayer_perceptron.py:692: ConvergenceWarning: Stochastic Optimizer: Maximum iterations (200) reached and the optimization hasn't converged yet.\n",
      "  warnings.warn(\n",
      "/home/francisco/anaconda3/lib/python3.9/site-packages/sklearn/neural_network/_multilayer_perceptron.py:692: ConvergenceWarning: Stochastic Optimizer: Maximum iterations (200) reached and the optimization hasn't converged yet.\n",
      "  warnings.warn(\n",
      "/home/francisco/anaconda3/lib/python3.9/site-packages/sklearn/neural_network/_multilayer_perceptron.py:692: ConvergenceWarning: Stochastic Optimizer: Maximum iterations (200) reached and the optimization hasn't converged yet.\n",
      "  warnings.warn(\n",
      "/home/francisco/anaconda3/lib/python3.9/site-packages/sklearn/neural_network/_multilayer_perceptron.py:692: ConvergenceWarning: Stochastic Optimizer: Maximum iterations (200) reached and the optimization hasn't converged yet.\n",
      "  warnings.warn(\n",
      "/home/francisco/anaconda3/lib/python3.9/site-packages/sklearn/neural_network/_multilayer_perceptron.py:692: ConvergenceWarning: Stochastic Optimizer: Maximum iterations (200) reached and the optimization hasn't converged yet.\n",
      "  warnings.warn(\n",
      "/home/francisco/anaconda3/lib/python3.9/site-packages/sklearn/neural_network/_multilayer_perceptron.py:692: ConvergenceWarning: Stochastic Optimizer: Maximum iterations (200) reached and the optimization hasn't converged yet.\n",
      "  warnings.warn(\n",
      "/home/francisco/anaconda3/lib/python3.9/site-packages/sklearn/neural_network/_multilayer_perceptron.py:692: ConvergenceWarning: Stochastic Optimizer: Maximum iterations (200) reached and the optimization hasn't converged yet.\n",
      "  warnings.warn(\n",
      "/home/francisco/anaconda3/lib/python3.9/site-packages/sklearn/neural_network/_multilayer_perceptron.py:692: ConvergenceWarning: Stochastic Optimizer: Maximum iterations (200) reached and the optimization hasn't converged yet.\n",
      "  warnings.warn(\n",
      "/home/francisco/anaconda3/lib/python3.9/site-packages/sklearn/neural_network/_multilayer_perceptron.py:692: ConvergenceWarning: Stochastic Optimizer: Maximum iterations (200) reached and the optimization hasn't converged yet.\n",
      "  warnings.warn(\n",
      "/home/francisco/anaconda3/lib/python3.9/site-packages/sklearn/neural_network/_multilayer_perceptron.py:692: ConvergenceWarning: Stochastic Optimizer: Maximum iterations (200) reached and the optimization hasn't converged yet.\n",
      "  warnings.warn(\n",
      "/home/francisco/anaconda3/lib/python3.9/site-packages/sklearn/neural_network/_multilayer_perceptron.py:692: ConvergenceWarning: Stochastic Optimizer: Maximum iterations (200) reached and the optimization hasn't converged yet.\n",
      "  warnings.warn(\n",
      "/home/francisco/anaconda3/lib/python3.9/site-packages/sklearn/neural_network/_multilayer_perceptron.py:692: ConvergenceWarning: Stochastic Optimizer: Maximum iterations (200) reached and the optimization hasn't converged yet.\n",
      "  warnings.warn(\n",
      "/home/francisco/anaconda3/lib/python3.9/site-packages/sklearn/neural_network/_multilayer_perceptron.py:692: ConvergenceWarning: Stochastic Optimizer: Maximum iterations (200) reached and the optimization hasn't converged yet.\n",
      "  warnings.warn(\n",
      "/home/francisco/anaconda3/lib/python3.9/site-packages/sklearn/neural_network/_multilayer_perceptron.py:692: ConvergenceWarning: Stochastic Optimizer: Maximum iterations (200) reached and the optimization hasn't converged yet.\n",
      "  warnings.warn(\n",
      "/home/francisco/anaconda3/lib/python3.9/site-packages/sklearn/neural_network/_multilayer_perceptron.py:692: ConvergenceWarning: Stochastic Optimizer: Maximum iterations (200) reached and the optimization hasn't converged yet.\n",
      "  warnings.warn(\n",
      "/home/francisco/anaconda3/lib/python3.9/site-packages/sklearn/neural_network/_multilayer_perceptron.py:692: ConvergenceWarning: Stochastic Optimizer: Maximum iterations (200) reached and the optimization hasn't converged yet.\n",
      "  warnings.warn(\n",
      "/home/francisco/anaconda3/lib/python3.9/site-packages/sklearn/neural_network/_multilayer_perceptron.py:692: ConvergenceWarning: Stochastic Optimizer: Maximum iterations (200) reached and the optimization hasn't converged yet.\n",
      "  warnings.warn(\n",
      "/home/francisco/anaconda3/lib/python3.9/site-packages/sklearn/neural_network/_multilayer_perceptron.py:692: ConvergenceWarning: Stochastic Optimizer: Maximum iterations (200) reached and the optimization hasn't converged yet.\n",
      "  warnings.warn(\n",
      "/home/francisco/anaconda3/lib/python3.9/site-packages/sklearn/neural_network/_multilayer_perceptron.py:692: ConvergenceWarning: Stochastic Optimizer: Maximum iterations (200) reached and the optimization hasn't converged yet.\n",
      "  warnings.warn(\n",
      "/home/francisco/anaconda3/lib/python3.9/site-packages/sklearn/neural_network/_multilayer_perceptron.py:692: ConvergenceWarning: Stochastic Optimizer: Maximum iterations (200) reached and the optimization hasn't converged yet.\n",
      "  warnings.warn(\n",
      "/home/francisco/anaconda3/lib/python3.9/site-packages/sklearn/neural_network/_multilayer_perceptron.py:692: ConvergenceWarning: Stochastic Optimizer: Maximum iterations (200) reached and the optimization hasn't converged yet.\n",
      "  warnings.warn(\n",
      "/home/francisco/anaconda3/lib/python3.9/site-packages/sklearn/neural_network/_multilayer_perceptron.py:692: ConvergenceWarning: Stochastic Optimizer: Maximum iterations (200) reached and the optimization hasn't converged yet.\n",
      "  warnings.warn(\n",
      "/home/francisco/anaconda3/lib/python3.9/site-packages/sklearn/neural_network/_multilayer_perceptron.py:692: ConvergenceWarning: Stochastic Optimizer: Maximum iterations (200) reached and the optimization hasn't converged yet.\n",
      "  warnings.warn(\n",
      "/home/francisco/anaconda3/lib/python3.9/site-packages/sklearn/neural_network/_multilayer_perceptron.py:692: ConvergenceWarning: Stochastic Optimizer: Maximum iterations (200) reached and the optimization hasn't converged yet.\n",
      "  warnings.warn(\n",
      "/home/francisco/anaconda3/lib/python3.9/site-packages/sklearn/neural_network/_multilayer_perceptron.py:692: ConvergenceWarning: Stochastic Optimizer: Maximum iterations (200) reached and the optimization hasn't converged yet.\n",
      "  warnings.warn(\n",
      "/home/francisco/anaconda3/lib/python3.9/site-packages/sklearn/neural_network/_multilayer_perceptron.py:692: ConvergenceWarning: Stochastic Optimizer: Maximum iterations (200) reached and the optimization hasn't converged yet.\n",
      "  warnings.warn(\n",
      "/home/francisco/anaconda3/lib/python3.9/site-packages/sklearn/neural_network/_multilayer_perceptron.py:692: ConvergenceWarning: Stochastic Optimizer: Maximum iterations (200) reached and the optimization hasn't converged yet.\n",
      "  warnings.warn(\n",
      "/home/francisco/anaconda3/lib/python3.9/site-packages/sklearn/neural_network/_multilayer_perceptron.py:692: ConvergenceWarning: Stochastic Optimizer: Maximum iterations (200) reached and the optimization hasn't converged yet.\n",
      "  warnings.warn(\n",
      "/home/francisco/anaconda3/lib/python3.9/site-packages/sklearn/neural_network/_multilayer_perceptron.py:692: ConvergenceWarning: Stochastic Optimizer: Maximum iterations (200) reached and the optimization hasn't converged yet.\n",
      "  warnings.warn(\n",
      "/home/francisco/anaconda3/lib/python3.9/site-packages/sklearn/neural_network/_multilayer_perceptron.py:692: ConvergenceWarning: Stochastic Optimizer: Maximum iterations (200) reached and the optimization hasn't converged yet.\n",
      "  warnings.warn(\n",
      "/home/francisco/anaconda3/lib/python3.9/site-packages/sklearn/neural_network/_multilayer_perceptron.py:692: ConvergenceWarning: Stochastic Optimizer: Maximum iterations (200) reached and the optimization hasn't converged yet.\n",
      "  warnings.warn(\n",
      "/home/francisco/anaconda3/lib/python3.9/site-packages/sklearn/neural_network/_multilayer_perceptron.py:692: ConvergenceWarning: Stochastic Optimizer: Maximum iterations (200) reached and the optimization hasn't converged yet.\n",
      "  warnings.warn(\n",
      "/home/francisco/anaconda3/lib/python3.9/site-packages/sklearn/neural_network/_multilayer_perceptron.py:692: ConvergenceWarning: Stochastic Optimizer: Maximum iterations (200) reached and the optimization hasn't converged yet.\n",
      "  warnings.warn(\n",
      "/home/francisco/anaconda3/lib/python3.9/site-packages/sklearn/neural_network/_multilayer_perceptron.py:692: ConvergenceWarning: Stochastic Optimizer: Maximum iterations (200) reached and the optimization hasn't converged yet.\n",
      "  warnings.warn(\n",
      "/home/francisco/anaconda3/lib/python3.9/site-packages/sklearn/neural_network/_multilayer_perceptron.py:692: ConvergenceWarning: Stochastic Optimizer: Maximum iterations (200) reached and the optimization hasn't converged yet.\n",
      "  warnings.warn(\n",
      "/home/francisco/anaconda3/lib/python3.9/site-packages/sklearn/neural_network/_multilayer_perceptron.py:692: ConvergenceWarning: Stochastic Optimizer: Maximum iterations (200) reached and the optimization hasn't converged yet.\n",
      "  warnings.warn(\n",
      "/home/francisco/anaconda3/lib/python3.9/site-packages/sklearn/neural_network/_multilayer_perceptron.py:692: ConvergenceWarning: Stochastic Optimizer: Maximum iterations (200) reached and the optimization hasn't converged yet.\n",
      "  warnings.warn(\n",
      "/home/francisco/anaconda3/lib/python3.9/site-packages/sklearn/neural_network/_multilayer_perceptron.py:692: ConvergenceWarning: Stochastic Optimizer: Maximum iterations (200) reached and the optimization hasn't converged yet.\n",
      "  warnings.warn(\n",
      "/home/francisco/anaconda3/lib/python3.9/site-packages/sklearn/neural_network/_multilayer_perceptron.py:692: ConvergenceWarning: Stochastic Optimizer: Maximum iterations (200) reached and the optimization hasn't converged yet.\n",
      "  warnings.warn(\n",
      "/home/francisco/anaconda3/lib/python3.9/site-packages/sklearn/neural_network/_multilayer_perceptron.py:692: ConvergenceWarning: Stochastic Optimizer: Maximum iterations (200) reached and the optimization hasn't converged yet.\n",
      "  warnings.warn(\n",
      "/home/francisco/anaconda3/lib/python3.9/site-packages/sklearn/neural_network/_multilayer_perceptron.py:692: ConvergenceWarning: Stochastic Optimizer: Maximum iterations (200) reached and the optimization hasn't converged yet.\n",
      "  warnings.warn(\n",
      "/home/francisco/anaconda3/lib/python3.9/site-packages/sklearn/neural_network/_multilayer_perceptron.py:692: ConvergenceWarning: Stochastic Optimizer: Maximum iterations (200) reached and the optimization hasn't converged yet.\n",
      "  warnings.warn(\n",
      "/home/francisco/anaconda3/lib/python3.9/site-packages/sklearn/neural_network/_multilayer_perceptron.py:692: ConvergenceWarning: Stochastic Optimizer: Maximum iterations (200) reached and the optimization hasn't converged yet.\n",
      "  warnings.warn(\n",
      "/home/francisco/anaconda3/lib/python3.9/site-packages/sklearn/neural_network/_multilayer_perceptron.py:692: ConvergenceWarning: Stochastic Optimizer: Maximum iterations (200) reached and the optimization hasn't converged yet.\n",
      "  warnings.warn(\n",
      "/home/francisco/anaconda3/lib/python3.9/site-packages/sklearn/neural_network/_multilayer_perceptron.py:692: ConvergenceWarning: Stochastic Optimizer: Maximum iterations (200) reached and the optimization hasn't converged yet.\n",
      "  warnings.warn(\n",
      "/home/francisco/anaconda3/lib/python3.9/site-packages/sklearn/neural_network/_multilayer_perceptron.py:692: ConvergenceWarning: Stochastic Optimizer: Maximum iterations (200) reached and the optimization hasn't converged yet.\n",
      "  warnings.warn(\n",
      "/home/francisco/anaconda3/lib/python3.9/site-packages/sklearn/neural_network/_multilayer_perceptron.py:692: ConvergenceWarning: Stochastic Optimizer: Maximum iterations (200) reached and the optimization hasn't converged yet.\n",
      "  warnings.warn(\n",
      "/home/francisco/anaconda3/lib/python3.9/site-packages/sklearn/neural_network/_multilayer_perceptron.py:692: ConvergenceWarning: Stochastic Optimizer: Maximum iterations (200) reached and the optimization hasn't converged yet.\n",
      "  warnings.warn(\n",
      "/home/francisco/anaconda3/lib/python3.9/site-packages/sklearn/neural_network/_multilayer_perceptron.py:692: ConvergenceWarning: Stochastic Optimizer: Maximum iterations (200) reached and the optimization hasn't converged yet.\n",
      "  warnings.warn(\n",
      "/home/francisco/anaconda3/lib/python3.9/site-packages/sklearn/neural_network/_multilayer_perceptron.py:692: ConvergenceWarning: Stochastic Optimizer: Maximum iterations (200) reached and the optimization hasn't converged yet.\n",
      "  warnings.warn(\n",
      "/home/francisco/anaconda3/lib/python3.9/site-packages/sklearn/neural_network/_multilayer_perceptron.py:692: ConvergenceWarning: Stochastic Optimizer: Maximum iterations (200) reached and the optimization hasn't converged yet.\n",
      "  warnings.warn(\n",
      "/home/francisco/anaconda3/lib/python3.9/site-packages/sklearn/neural_network/_multilayer_perceptron.py:692: ConvergenceWarning: Stochastic Optimizer: Maximum iterations (200) reached and the optimization hasn't converged yet.\n",
      "  warnings.warn(\n",
      "/home/francisco/anaconda3/lib/python3.9/site-packages/sklearn/neural_network/_multilayer_perceptron.py:692: ConvergenceWarning: Stochastic Optimizer: Maximum iterations (200) reached and the optimization hasn't converged yet.\n",
      "  warnings.warn(\n",
      "/home/francisco/anaconda3/lib/python3.9/site-packages/sklearn/neural_network/_multilayer_perceptron.py:692: ConvergenceWarning: Stochastic Optimizer: Maximum iterations (200) reached and the optimization hasn't converged yet.\n",
      "  warnings.warn(\n",
      "/home/francisco/anaconda3/lib/python3.9/site-packages/sklearn/neural_network/_multilayer_perceptron.py:692: ConvergenceWarning: Stochastic Optimizer: Maximum iterations (200) reached and the optimization hasn't converged yet.\n",
      "  warnings.warn(\n",
      "/home/francisco/anaconda3/lib/python3.9/site-packages/sklearn/neural_network/_multilayer_perceptron.py:692: ConvergenceWarning: Stochastic Optimizer: Maximum iterations (200) reached and the optimization hasn't converged yet.\n",
      "  warnings.warn(\n",
      "/home/francisco/anaconda3/lib/python3.9/site-packages/sklearn/neural_network/_multilayer_perceptron.py:692: ConvergenceWarning: Stochastic Optimizer: Maximum iterations (200) reached and the optimization hasn't converged yet.\n",
      "  warnings.warn(\n",
      "/home/francisco/anaconda3/lib/python3.9/site-packages/sklearn/neural_network/_multilayer_perceptron.py:692: ConvergenceWarning: Stochastic Optimizer: Maximum iterations (200) reached and the optimization hasn't converged yet.\n",
      "  warnings.warn(\n",
      "/home/francisco/anaconda3/lib/python3.9/site-packages/sklearn/neural_network/_multilayer_perceptron.py:692: ConvergenceWarning: Stochastic Optimizer: Maximum iterations (200) reached and the optimization hasn't converged yet.\n",
      "  warnings.warn(\n",
      "/home/francisco/anaconda3/lib/python3.9/site-packages/sklearn/neural_network/_multilayer_perceptron.py:692: ConvergenceWarning: Stochastic Optimizer: Maximum iterations (200) reached and the optimization hasn't converged yet.\n",
      "  warnings.warn(\n",
      "/home/francisco/anaconda3/lib/python3.9/site-packages/sklearn/neural_network/_multilayer_perceptron.py:692: ConvergenceWarning: Stochastic Optimizer: Maximum iterations (200) reached and the optimization hasn't converged yet.\n",
      "  warnings.warn(\n",
      "/home/francisco/anaconda3/lib/python3.9/site-packages/sklearn/neural_network/_multilayer_perceptron.py:692: ConvergenceWarning: Stochastic Optimizer: Maximum iterations (200) reached and the optimization hasn't converged yet.\n",
      "  warnings.warn(\n",
      "/home/francisco/anaconda3/lib/python3.9/site-packages/sklearn/neural_network/_multilayer_perceptron.py:692: ConvergenceWarning: Stochastic Optimizer: Maximum iterations (200) reached and the optimization hasn't converged yet.\n",
      "  warnings.warn(\n",
      "/home/francisco/anaconda3/lib/python3.9/site-packages/sklearn/neural_network/_multilayer_perceptron.py:692: ConvergenceWarning: Stochastic Optimizer: Maximum iterations (200) reached and the optimization hasn't converged yet.\n",
      "  warnings.warn(\n",
      "/home/francisco/anaconda3/lib/python3.9/site-packages/sklearn/neural_network/_multilayer_perceptron.py:692: ConvergenceWarning: Stochastic Optimizer: Maximum iterations (200) reached and the optimization hasn't converged yet.\n",
      "  warnings.warn(\n",
      "/home/francisco/anaconda3/lib/python3.9/site-packages/sklearn/neural_network/_multilayer_perceptron.py:692: ConvergenceWarning: Stochastic Optimizer: Maximum iterations (200) reached and the optimization hasn't converged yet.\n",
      "  warnings.warn(\n",
      "/home/francisco/anaconda3/lib/python3.9/site-packages/sklearn/neural_network/_multilayer_perceptron.py:692: ConvergenceWarning: Stochastic Optimizer: Maximum iterations (200) reached and the optimization hasn't converged yet.\n",
      "  warnings.warn(\n",
      "/home/francisco/anaconda3/lib/python3.9/site-packages/sklearn/neural_network/_multilayer_perceptron.py:692: ConvergenceWarning: Stochastic Optimizer: Maximum iterations (200) reached and the optimization hasn't converged yet.\n",
      "  warnings.warn(\n",
      "/home/francisco/anaconda3/lib/python3.9/site-packages/sklearn/neural_network/_multilayer_perceptron.py:692: ConvergenceWarning: Stochastic Optimizer: Maximum iterations (200) reached and the optimization hasn't converged yet.\n",
      "  warnings.warn(\n",
      "/home/francisco/anaconda3/lib/python3.9/site-packages/sklearn/neural_network/_multilayer_perceptron.py:692: ConvergenceWarning: Stochastic Optimizer: Maximum iterations (200) reached and the optimization hasn't converged yet.\n",
      "  warnings.warn(\n",
      "/home/francisco/anaconda3/lib/python3.9/site-packages/sklearn/neural_network/_multilayer_perceptron.py:692: ConvergenceWarning: Stochastic Optimizer: Maximum iterations (200) reached and the optimization hasn't converged yet.\n",
      "  warnings.warn(\n",
      "/home/francisco/anaconda3/lib/python3.9/site-packages/sklearn/neural_network/_multilayer_perceptron.py:692: ConvergenceWarning: Stochastic Optimizer: Maximum iterations (200) reached and the optimization hasn't converged yet.\n",
      "  warnings.warn(\n",
      "/home/francisco/anaconda3/lib/python3.9/site-packages/sklearn/neural_network/_multilayer_perceptron.py:692: ConvergenceWarning: Stochastic Optimizer: Maximum iterations (200) reached and the optimization hasn't converged yet.\n",
      "  warnings.warn(\n",
      "/home/francisco/anaconda3/lib/python3.9/site-packages/sklearn/neural_network/_multilayer_perceptron.py:692: ConvergenceWarning: Stochastic Optimizer: Maximum iterations (200) reached and the optimization hasn't converged yet.\n",
      "  warnings.warn(\n",
      "/home/francisco/anaconda3/lib/python3.9/site-packages/sklearn/neural_network/_multilayer_perceptron.py:692: ConvergenceWarning: Stochastic Optimizer: Maximum iterations (200) reached and the optimization hasn't converged yet.\n",
      "  warnings.warn(\n",
      "/home/francisco/anaconda3/lib/python3.9/site-packages/sklearn/neural_network/_multilayer_perceptron.py:692: ConvergenceWarning: Stochastic Optimizer: Maximum iterations (200) reached and the optimization hasn't converged yet.\n",
      "  warnings.warn(\n",
      "/home/francisco/anaconda3/lib/python3.9/site-packages/sklearn/neural_network/_multilayer_perceptron.py:692: ConvergenceWarning: Stochastic Optimizer: Maximum iterations (200) reached and the optimization hasn't converged yet.\n",
      "  warnings.warn(\n",
      "/home/francisco/anaconda3/lib/python3.9/site-packages/sklearn/neural_network/_multilayer_perceptron.py:692: ConvergenceWarning: Stochastic Optimizer: Maximum iterations (200) reached and the optimization hasn't converged yet.\n",
      "  warnings.warn(\n",
      "/home/francisco/anaconda3/lib/python3.9/site-packages/sklearn/neural_network/_multilayer_perceptron.py:692: ConvergenceWarning: Stochastic Optimizer: Maximum iterations (200) reached and the optimization hasn't converged yet.\n",
      "  warnings.warn(\n",
      "/home/francisco/anaconda3/lib/python3.9/site-packages/sklearn/neural_network/_multilayer_perceptron.py:692: ConvergenceWarning: Stochastic Optimizer: Maximum iterations (200) reached and the optimization hasn't converged yet.\n",
      "  warnings.warn(\n",
      "/home/francisco/anaconda3/lib/python3.9/site-packages/sklearn/neural_network/_multilayer_perceptron.py:692: ConvergenceWarning: Stochastic Optimizer: Maximum iterations (200) reached and the optimization hasn't converged yet.\n",
      "  warnings.warn(\n",
      "/home/francisco/anaconda3/lib/python3.9/site-packages/sklearn/neural_network/_multilayer_perceptron.py:692: ConvergenceWarning: Stochastic Optimizer: Maximum iterations (200) reached and the optimization hasn't converged yet.\n",
      "  warnings.warn(\n",
      "/home/francisco/anaconda3/lib/python3.9/site-packages/sklearn/neural_network/_multilayer_perceptron.py:692: ConvergenceWarning: Stochastic Optimizer: Maximum iterations (200) reached and the optimization hasn't converged yet.\n",
      "  warnings.warn(\n",
      "/home/francisco/anaconda3/lib/python3.9/site-packages/sklearn/neural_network/_multilayer_perceptron.py:692: ConvergenceWarning: Stochastic Optimizer: Maximum iterations (200) reached and the optimization hasn't converged yet.\n",
      "  warnings.warn(\n",
      "/home/francisco/anaconda3/lib/python3.9/site-packages/sklearn/neural_network/_multilayer_perceptron.py:692: ConvergenceWarning: Stochastic Optimizer: Maximum iterations (200) reached and the optimization hasn't converged yet.\n",
      "  warnings.warn(\n",
      "/home/francisco/anaconda3/lib/python3.9/site-packages/sklearn/neural_network/_multilayer_perceptron.py:692: ConvergenceWarning: Stochastic Optimizer: Maximum iterations (200) reached and the optimization hasn't converged yet.\n",
      "  warnings.warn(\n",
      "/home/francisco/anaconda3/lib/python3.9/site-packages/sklearn/neural_network/_multilayer_perceptron.py:692: ConvergenceWarning: Stochastic Optimizer: Maximum iterations (200) reached and the optimization hasn't converged yet.\n",
      "  warnings.warn(\n",
      "/home/francisco/anaconda3/lib/python3.9/site-packages/sklearn/neural_network/_multilayer_perceptron.py:692: ConvergenceWarning: Stochastic Optimizer: Maximum iterations (200) reached and the optimization hasn't converged yet.\n",
      "  warnings.warn(\n",
      "/home/francisco/anaconda3/lib/python3.9/site-packages/sklearn/neural_network/_multilayer_perceptron.py:692: ConvergenceWarning: Stochastic Optimizer: Maximum iterations (200) reached and the optimization hasn't converged yet.\n",
      "  warnings.warn(\n",
      "/home/francisco/anaconda3/lib/python3.9/site-packages/sklearn/neural_network/_multilayer_perceptron.py:692: ConvergenceWarning: Stochastic Optimizer: Maximum iterations (200) reached and the optimization hasn't converged yet.\n",
      "  warnings.warn(\n",
      "/home/francisco/anaconda3/lib/python3.9/site-packages/sklearn/neural_network/_multilayer_perceptron.py:692: ConvergenceWarning: Stochastic Optimizer: Maximum iterations (200) reached and the optimization hasn't converged yet.\n",
      "  warnings.warn(\n",
      "/home/francisco/anaconda3/lib/python3.9/site-packages/sklearn/neural_network/_multilayer_perceptron.py:692: ConvergenceWarning: Stochastic Optimizer: Maximum iterations (200) reached and the optimization hasn't converged yet.\n",
      "  warnings.warn(\n",
      "/home/francisco/anaconda3/lib/python3.9/site-packages/sklearn/neural_network/_multilayer_perceptron.py:692: ConvergenceWarning: Stochastic Optimizer: Maximum iterations (200) reached and the optimization hasn't converged yet.\n",
      "  warnings.warn(\n",
      "/home/francisco/anaconda3/lib/python3.9/site-packages/sklearn/neural_network/_multilayer_perceptron.py:692: ConvergenceWarning: Stochastic Optimizer: Maximum iterations (200) reached and the optimization hasn't converged yet.\n",
      "  warnings.warn(\n",
      "/home/francisco/anaconda3/lib/python3.9/site-packages/sklearn/neural_network/_multilayer_perceptron.py:692: ConvergenceWarning: Stochastic Optimizer: Maximum iterations (200) reached and the optimization hasn't converged yet.\n",
      "  warnings.warn(\n",
      "/home/francisco/anaconda3/lib/python3.9/site-packages/sklearn/neural_network/_multilayer_perceptron.py:692: ConvergenceWarning: Stochastic Optimizer: Maximum iterations (200) reached and the optimization hasn't converged yet.\n",
      "  warnings.warn(\n",
      "/home/francisco/anaconda3/lib/python3.9/site-packages/sklearn/neural_network/_multilayer_perceptron.py:692: ConvergenceWarning: Stochastic Optimizer: Maximum iterations (200) reached and the optimization hasn't converged yet.\n",
      "  warnings.warn(\n",
      "/home/francisco/anaconda3/lib/python3.9/site-packages/sklearn/neural_network/_multilayer_perceptron.py:692: ConvergenceWarning: Stochastic Optimizer: Maximum iterations (200) reached and the optimization hasn't converged yet.\n",
      "  warnings.warn(\n",
      "/home/francisco/anaconda3/lib/python3.9/site-packages/sklearn/neural_network/_multilayer_perceptron.py:692: ConvergenceWarning: Stochastic Optimizer: Maximum iterations (200) reached and the optimization hasn't converged yet.\n",
      "  warnings.warn(\n",
      "/home/francisco/anaconda3/lib/python3.9/site-packages/sklearn/neural_network/_multilayer_perceptron.py:692: ConvergenceWarning: Stochastic Optimizer: Maximum iterations (200) reached and the optimization hasn't converged yet.\n",
      "  warnings.warn(\n",
      "/home/francisco/anaconda3/lib/python3.9/site-packages/sklearn/neural_network/_multilayer_perceptron.py:692: ConvergenceWarning: Stochastic Optimizer: Maximum iterations (200) reached and the optimization hasn't converged yet.\n",
      "  warnings.warn(\n",
      "/home/francisco/anaconda3/lib/python3.9/site-packages/sklearn/neural_network/_multilayer_perceptron.py:692: ConvergenceWarning: Stochastic Optimizer: Maximum iterations (200) reached and the optimization hasn't converged yet.\n",
      "  warnings.warn(\n",
      "/home/francisco/anaconda3/lib/python3.9/site-packages/sklearn/neural_network/_multilayer_perceptron.py:692: ConvergenceWarning: Stochastic Optimizer: Maximum iterations (200) reached and the optimization hasn't converged yet.\n",
      "  warnings.warn(\n",
      "/home/francisco/anaconda3/lib/python3.9/site-packages/sklearn/neural_network/_multilayer_perceptron.py:692: ConvergenceWarning: Stochastic Optimizer: Maximum iterations (200) reached and the optimization hasn't converged yet.\n",
      "  warnings.warn(\n",
      "/home/francisco/anaconda3/lib/python3.9/site-packages/sklearn/neural_network/_multilayer_perceptron.py:692: ConvergenceWarning: Stochastic Optimizer: Maximum iterations (200) reached and the optimization hasn't converged yet.\n",
      "  warnings.warn(\n",
      "/home/francisco/anaconda3/lib/python3.9/site-packages/sklearn/neural_network/_multilayer_perceptron.py:692: ConvergenceWarning: Stochastic Optimizer: Maximum iterations (200) reached and the optimization hasn't converged yet.\n",
      "  warnings.warn(\n",
      "/home/francisco/anaconda3/lib/python3.9/site-packages/sklearn/neural_network/_multilayer_perceptron.py:692: ConvergenceWarning: Stochastic Optimizer: Maximum iterations (200) reached and the optimization hasn't converged yet.\n",
      "  warnings.warn(\n",
      "/home/francisco/anaconda3/lib/python3.9/site-packages/sklearn/neural_network/_multilayer_perceptron.py:692: ConvergenceWarning: Stochastic Optimizer: Maximum iterations (200) reached and the optimization hasn't converged yet.\n",
      "  warnings.warn(\n",
      "/home/francisco/anaconda3/lib/python3.9/site-packages/sklearn/neural_network/_multilayer_perceptron.py:692: ConvergenceWarning: Stochastic Optimizer: Maximum iterations (200) reached and the optimization hasn't converged yet.\n",
      "  warnings.warn(\n",
      "/home/francisco/anaconda3/lib/python3.9/site-packages/sklearn/neural_network/_multilayer_perceptron.py:692: ConvergenceWarning: Stochastic Optimizer: Maximum iterations (200) reached and the optimization hasn't converged yet.\n",
      "  warnings.warn(\n",
      "/home/francisco/anaconda3/lib/python3.9/site-packages/sklearn/neural_network/_multilayer_perceptron.py:692: ConvergenceWarning: Stochastic Optimizer: Maximum iterations (200) reached and the optimization hasn't converged yet.\n",
      "  warnings.warn(\n",
      "/home/francisco/anaconda3/lib/python3.9/site-packages/sklearn/neural_network/_multilayer_perceptron.py:692: ConvergenceWarning: Stochastic Optimizer: Maximum iterations (200) reached and the optimization hasn't converged yet.\n",
      "  warnings.warn(\n",
      "/home/francisco/anaconda3/lib/python3.9/site-packages/sklearn/neural_network/_multilayer_perceptron.py:692: ConvergenceWarning: Stochastic Optimizer: Maximum iterations (200) reached and the optimization hasn't converged yet.\n",
      "  warnings.warn(\n",
      "/home/francisco/anaconda3/lib/python3.9/site-packages/sklearn/neural_network/_multilayer_perceptron.py:692: ConvergenceWarning: Stochastic Optimizer: Maximum iterations (200) reached and the optimization hasn't converged yet.\n",
      "  warnings.warn(\n"
     ]
    },
    {
     "name": "stdout",
     "output_type": "stream",
     "text": [
      "MLPClassifier(activation='tanh', hidden_layer_sizes=(10, 30, 10))\n"
     ]
    },
    {
     "name": "stderr",
     "output_type": "stream",
     "text": [
      "/home/francisco/anaconda3/lib/python3.9/site-packages/sklearn/neural_network/_multilayer_perceptron.py:692: ConvergenceWarning: Stochastic Optimizer: Maximum iterations (200) reached and the optimization hasn't converged yet.\n",
      "  warnings.warn(\n"
     ]
    }
   ],
   "source": [
    "# Applying the Grid Search\n",
    "\n",
    "grid_search = GridSearchCV(MLPClassifier(), \n",
    "                           param_grid=param_grid, n_jobs=6) \n",
    "grid_search.fit(X_train, y_train) \n",
    "print(grid_search.best_estimator_) "
   ]
  },
  {
   "cell_type": "code",
   "execution_count": 245,
   "metadata": {},
   "outputs": [
    {
     "name": "stdout",
     "output_type": "stream",
     "text": [
      "===============================\n",
      "The total score was: 0.5232394366197183\n",
      "===============================\n"
     ]
    },
    {
     "name": "stderr",
     "output_type": "stream",
     "text": [
      "/home/francisco/anaconda3/lib/python3.9/site-packages/sklearn/neural_network/_multilayer_perceptron.py:692: ConvergenceWarning: Stochastic Optimizer: Maximum iterations (200) reached and the optimization hasn't converged yet.\n",
      "  warnings.warn(\n"
     ]
    }
   ],
   "source": [
    "model_grid = MLPClassifier(activation='tanh', hidden_layer_sizes=(10, 30, 10))\n",
    "model_grid.fit(X_train, y_train) \n",
    "# Evaluating model\n",
    "score = model_grid.score(X_test, y_test)\n",
    "print('===============================')\n",
    "print(f'The total score was: {score}')\n",
    "print('===============================')"
   ]
  },
  {
   "cell_type": "code",
   "execution_count": 246,
   "metadata": {},
   "outputs": [
    {
     "name": "stdout",
     "output_type": "stream",
     "text": [
      "============================\n",
      "MLP Model Results: with Enhancing\n",
      "\n",
      "Accuracy: 0.5232394366197183 \n",
      "----edm----\n",
      "Recall: 0.6102564102564103\n",
      "Precision: 0.6611111111111111\n",
      "----latin----\n",
      "Recall: 0.24224343675417662\n",
      "Precision: 0.5178571428571429\n",
      "----pop----\n",
      "Recall: 0.3854473942969518\n",
      "Precision: 0.38811881188118813\n",
      "----r&b----\n",
      "Recall: 0.44704570791527315\n",
      "Precision: 0.42344244984160506\n",
      "----rap----\n",
      "Recall: 0.6846011131725418\n",
      "Precision: 0.5676923076923077\n",
      "----rock----\n",
      "Recall: 0.7348571428571429\n",
      "Precision: 0.5685234305923961\n",
      "============================\n"
     ]
    }
   ],
   "source": [
    "# Prediction\n",
    "prediction = model_grid.predict(X_test)\n",
    "# Acurracy \n",
    "accuracy = accuracy_score(y_test, prediction)\n",
    "# Recall\n",
    "recall = recall_score(y_test, prediction, average=None)\n",
    "# Precision\n",
    "precision = precision_score(y_test, prediction, average=None)\n",
    "\n",
    "# Displaying the scores\n",
    "print(f'============================')\n",
    "print(f'MLP Model Results: with Enhancing\\n')\n",
    "print(f'Accuracy: {accuracy} ')\n",
    "\n",
    "for i, genre in enumerate(label_encoder.classes_):\n",
    "    print(f'----{genre}----')\n",
    "    print(f'Recall: {recall[i]}')\n",
    "    print(f'Precision: {precision[i]}')\n",
    "print(f'============================')\n"
   ]
  },
  {
   "cell_type": "code",
   "execution_count": 247,
   "metadata": {},
   "outputs": [
    {
     "data": {
      "image/png": "[encoded data removed]",
      "text/plain": [
       "<Figure size 720x576 with 2 Axes>"
      ]
     },
     "metadata": {
      "needs_background": "light"
     },
     "output_type": "display_data"
    }
   ],
   "source": [
    "# Confusion Matrix\n",
    "\n",
    "plt.figure(figsize=(10, 8))\n",
    "sns.heatmap(confusion_matrix(y_test, prediction), annot=True, fmt=\"g\", cmap=\"Blues\", xticklabels=label_encoder.classes_, yticklabels=label_encoder.classes_)\n",
    "plt.title('Confusion Heatmap')\n",
    "plt.show()"
   ]
  }
 ],
 "metadata": {
  "kernelspec": {
   "display_name": "Python 3 (ipykernel)",
   "language": "python",
   "name": "python3"
  },
  "language_info": {
   "codemirror_mode": {
    "name": "ipython",
    "version": 3
   },
   "file_extension": ".py",
   "mimetype": "text/x-python",
   "name": "python",
   "nbconvert_exporter": "python",
   "pygments_lexer": "ipython3",
   "version": "3.9.12"
  }
 },
 "nbformat": 4,
 "nbformat_minor": 4
}
